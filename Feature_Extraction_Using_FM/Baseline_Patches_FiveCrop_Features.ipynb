{
 "cells": [
  {
   "cell_type": "code",
   "execution_count": 1,
   "metadata": {},
   "outputs": [
    {
     "name": "stdout",
     "output_type": "stream",
     "text": [
      "cuda\n"
     ]
    }
   ],
   "source": [
    "import torch\n",
    "import torchvision\n",
    "import os\n",
    "from os.path import join as j_\n",
    "from PIL import Image\n",
    "import pandas as pd\n",
    "import numpy as np\n",
    "import time\n",
    "import random\n",
    "from tqdm import tqdm\n",
    "# print(torch.version)\n",
    "# print(torch.version.cuda)\n",
    "os.environ['CUDA_LAUNCH_BLOCKING'] = '1'\n",
    "from torchvision import transforms\n",
    "from torch.utils.data import DataLoader, Dataset, Sampler\n",
    "from torchvision.transforms import Lambda\n",
    "import torchvision.models as models\n",
    "import torch.nn as nn\n",
    "from PIL import Image\n",
    "Image.MAX_IMAGE_PIXELS = None\n",
    "import timm\n",
    "from timm.data import resolve_data_config\n",
    "from timm.data.transforms_factory import create_transform\n",
    "from timm.layers import SwiGLUPacked\n",
    "device = torch.device(\"cuda\" if torch.cuda.is_available() else \"cpu\")\n",
    "print(device)"
   ]
  },
  {
   "cell_type": "markdown",
   "metadata": {},
   "source": [
    "### Global Config Settings"
   ]
  },
  {
   "cell_type": "code",
   "execution_count": 7,
   "metadata": {},
   "outputs": [],
   "source": [
    "# configs\n",
    "BATCH_SIZE = 1 # load each slide all tiles sequentially \n",
    "K_FOLDS_PATH = r'E:\\\\Aamir Gulzar\\\\dataset\\\\paip_data\\\\labels\\\\validation_data_MSI.csv'\n",
    "DATA_PATH = r\"E:\\\\Aamir Gulzar\\\\dataset\\\\paip_data\\\\Patches\"\n",
    "FEATURES_SAVE_DIR = r\"E:/Aamir Gulzar/dataset/paip_data/Baseline_FiveCrop_Features\"\n",
    "# saved model path\n",
    "Model_PATH = r\"E:\\Aamir Gulzar\\existing_approaches\\Baseline_Fivecrop_4Folds\\MSI_vs_MSS\\fold1\\best0\\checkpoint_best_AUC.pth\""
   ]
  },
  {
   "cell_type": "markdown",
   "metadata": {},
   "source": [
    "### Model"
   ]
  },
  {
   "cell_type": "code",
   "execution_count": 8,
   "metadata": {},
   "outputs": [],
   "source": [
    "model = models.resnet34()\n",
    "model.fc = nn.Identity()\n",
    "checkpoint = torch.load(Model_PATH)\n",
    "model.load_state_dict(checkpoint['state_dict'], strict=False)\n",
    "model.eval()\n",
    "model = model.to(device)\n",
    "def preprocess_resnet(image):\n",
    "    transform = transforms.Compose([\n",
    "        transforms.Resize((224, 224)),  # Ensure consistent size\n",
    "        transforms.ToTensor(),\n",
    "        transforms.Normalize(mean=(0.485, 0.456, 0.406), std=(0.229, 0.224, 0.225))  # ImageNet normalization\n",
    "    ])\n",
    "    return transform(image)"
   ]
  },
  {
   "cell_type": "markdown",
   "metadata": {},
   "source": [
    "### Data Loader"
   ]
  },
  {
   "cell_type": "code",
   "execution_count": 9,
   "metadata": {},
   "outputs": [
    {
     "name": "stdout",
     "output_type": "stream",
     "text": [
      "Number of Slides: 31\n",
      "Number of tiles: 29119\n",
      "Length of data_loader: 31\n"
     ]
    }
   ],
   "source": [
    "from dataloader import PatchLoader, SlideBatchSampler\n",
    "mode = 1 # for sequentially data/patches loading we will use mode =1 and mode= 2 for random loading.\n",
    "\n",
    "transform = transforms.Compose([\n",
    "    transforms.FiveCrop(224),  # this is a list of 5 crops\n",
    "    Lambda(lambda crops: torch.stack([transforms.ToTensor()(crop) for crop in crops]))  # convert to tensor and stack\n",
    "])\n",
    "def create_dataloader(label_file, data_path, transform, num_samples, mode):\n",
    "    # Create the dataset\n",
    "    dataset = PatchLoader(label_file=label_file, data_path=data_path, transform=transform, num_samples=num_samples, mode=mode)\n",
    "    # Ensure sequential data loading by disabling shuffle\n",
    "    batch_sampler = SlideBatchSampler(dataset.ntiles)\n",
    "    dataloader = DataLoader(dataset, batch_sampler=batch_sampler, num_workers=0, pin_memory=False)\n",
    "    return dataloader\n",
    "\n",
    "# Create DataLoaders\n",
    "data_loader = create_dataloader(label_file=K_FOLDS_PATH,data_path=DATA_PATH,\n",
    "                                     transform=transform,num_samples=None,mode=mode)\n",
    "print(f\"Length of data_loader: {len(data_loader)}\")"
   ]
  },
  {
   "cell_type": "code",
   "execution_count": 10,
   "metadata": {},
   "outputs": [],
   "source": [
    "# for batch_idx, (images, labels) in enumerate(data_loader):\n",
    "#     print(f\"Batch {batch_idx+1}\")\n",
    "#     print(f\"Images shape: {images.shape}\")\n",
    "#     print(f\"Labels: {labels}\")\n",
    "#     if batch_idx == 5:  # Only print a few batches to check if it's working\n",
    "#         break"
   ]
  },
  {
   "cell_type": "markdown",
   "metadata": {},
   "source": [
    "### FiveCrop Feature Extraction and Save"
   ]
  },
  {
   "cell_type": "code",
   "execution_count": 11,
   "metadata": {},
   "outputs": [],
   "source": [
    "@torch.no_grad()\n",
    "def extract_embeddings_patch_by_patch(model, dataloader, save_dir):\n",
    "    \"\"\"\n",
    "    Extract and save embeddings for each WSI, patch by patch, without averaging the five crops.\n",
    "    Args:\n",
    "    - model: The model used to extract embeddings.\n",
    "    - dataloader: Dataloader providing WSI patches and labels.\n",
    "    - save_dir: Directory where the extracted embeddings will be saved.\n",
    "    Returns:\n",
    "    - None: The function saves the extracted embeddings to disk.\n",
    "    \"\"\"\n",
    "    device = next(model.parameters()).device\n",
    "    print(f'The size of input dataloader is {len(dataloader)}')\n",
    "\n",
    "    for batch_idx, (images, labels) in tqdm(enumerate(dataloader), total=len(dataloader)):\n",
    "        wsi_name = dataloader.dataset.slides[batch_idx]\n",
    "        print(f\"Processing WSI {batch_idx+1} {wsi_name}\")\n",
    "        # make a new directory for each WSI\n",
    "        save_dir_wsi = os.path.join(save_dir, f'{wsi_name}')\n",
    "        # Check if the WSI directory already exists, skip if processed\n",
    "        if os.path.exists(save_dir_wsi):\n",
    "            print(f\"WSI {batch_idx+1} {wsi_name} already processed. Skipping...\")\n",
    "            continue\n",
    "        os.makedirs(save_dir_wsi, exist_ok=True)\n",
    "        batch_indices = dataloader.batch_sampler.indices[batch_idx]        \n",
    "        for patch_idx, dataset_idx in enumerate(batch_indices):  # Loop through indices of patches for current WSI\n",
    "            patch_name = os.path.splitext(os.path.basename(dataloader.dataset.tiles[dataset_idx]))[0]\n",
    "            image = images[patch_idx]\n",
    "            label = labels[patch_idx]\n",
    "            image = image.permute(0, 2, 3, 1).cpu().numpy()  # Convert to (num_crops, H, W, C)\n",
    "            image = (image * 255).astype(np.uint8)  # Convert back to uint8 format\n",
    "            # Apply Normalization on Each Crop (Matching Virchow2 & Conch)\n",
    "            image = torch.stack([preprocess_resnet(Image.fromarray(im)) for im in image])\n",
    "            # Move image to the same device as the model\n",
    "            image = image.to(device)\n",
    "            # Extract embeddings\n",
    "            with torch.inference_mode():\n",
    "                # Extract embeddings for the chunk\n",
    "                features = model(image)\n",
    "            # Save embeddings to disk\n",
    "            save_path = os.path.join(save_dir_wsi, f'{patch_name}.pt')\n",
    "            # print(f\"Saving features for patch {i + 1} to {save_path}\")\n",
    "            torch.save(features, save_path)\n",
    "            # also save in simple text format in text file\n",
    "            # save_path_txt = os.path.join(save_dir_wsi, f'{wsi_name}_{i}.txt')\n",
    "            # np.savetxt(save_path_txt, features.cpu().numpy() , delimiter=\",\")"
   ]
  },
  {
   "cell_type": "code",
   "execution_count": 12,
   "metadata": {},
   "outputs": [
    {
     "name": "stdout",
     "output_type": "stream",
     "text": [
      "The size of input dataloader is 31\n"
     ]
    },
    {
     "name": "stderr",
     "output_type": "stream",
     "text": [
      "  0%|          | 0/31 [00:00<?, ?it/s]"
     ]
    },
    {
     "name": "stdout",
     "output_type": "stream",
     "text": [
      "Processing WSI 1 validation_data_01_nonMSIH\n"
     ]
    },
    {
     "name": "stderr",
     "output_type": "stream",
     "text": [
      "  3%|▎         | 1/31 [00:23<11:30, 23.01s/it]"
     ]
    },
    {
     "name": "stdout",
     "output_type": "stream",
     "text": [
      "Processing WSI 2 validation_data_02_MSIH\n"
     ]
    },
    {
     "name": "stderr",
     "output_type": "stream",
     "text": [
      "  6%|▋         | 2/31 [01:11<18:16, 37.80s/it]"
     ]
    },
    {
     "name": "stdout",
     "output_type": "stream",
     "text": [
      "Processing WSI 3 validation_data_03_nonMSIH\n"
     ]
    },
    {
     "name": "stderr",
     "output_type": "stream",
     "text": [
      " 10%|▉         | 3/31 [01:29<13:24, 28.73s/it]"
     ]
    },
    {
     "name": "stdout",
     "output_type": "stream",
     "text": [
      "Processing WSI 4 validation_data_04_MSIH\n"
     ]
    },
    {
     "name": "stderr",
     "output_type": "stream",
     "text": [
      " 13%|█▎        | 4/31 [02:05<14:22, 31.93s/it]"
     ]
    },
    {
     "name": "stdout",
     "output_type": "stream",
     "text": [
      "Processing WSI 5 validation_data_05_nonMSIH\n"
     ]
    },
    {
     "name": "stderr",
     "output_type": "stream",
     "text": [
      " 16%|█▌        | 5/31 [02:56<16:45, 38.65s/it]"
     ]
    },
    {
     "name": "stdout",
     "output_type": "stream",
     "text": [
      "Processing WSI 6 validation_data_06_nonMSIH\n"
     ]
    },
    {
     "name": "stderr",
     "output_type": "stream",
     "text": [
      " 19%|█▉        | 6/31 [03:12<12:53, 30.94s/it]"
     ]
    },
    {
     "name": "stdout",
     "output_type": "stream",
     "text": [
      "Processing WSI 7 validation_data_07_nonMSIH\n"
     ]
    },
    {
     "name": "stderr",
     "output_type": "stream",
     "text": [
      " 23%|██▎       | 7/31 [03:29<10:30, 26.25s/it]"
     ]
    },
    {
     "name": "stdout",
     "output_type": "stream",
     "text": [
      "Processing WSI 8 validation_data_08_nonMSIH\n"
     ]
    },
    {
     "name": "stderr",
     "output_type": "stream",
     "text": [
      " 26%|██▌       | 8/31 [04:03<11:03, 28.87s/it]"
     ]
    },
    {
     "name": "stdout",
     "output_type": "stream",
     "text": [
      "Processing WSI 9 validation_data_09_nonMSIH\n"
     ]
    },
    {
     "name": "stderr",
     "output_type": "stream",
     "text": [
      " 29%|██▉       | 9/31 [04:38<11:18, 30.86s/it]"
     ]
    },
    {
     "name": "stdout",
     "output_type": "stream",
     "text": [
      "Processing WSI 10 validation_data_10_nonMSIH\n"
     ]
    },
    {
     "name": "stderr",
     "output_type": "stream",
     "text": [
      " 32%|███▏      | 10/31 [04:58<09:34, 27.34s/it]"
     ]
    },
    {
     "name": "stdout",
     "output_type": "stream",
     "text": [
      "Processing WSI 11 validation_data_11_MSIH\n"
     ]
    },
    {
     "name": "stderr",
     "output_type": "stream",
     "text": [
      " 35%|███▌      | 11/31 [05:28<09:27, 28.36s/it]"
     ]
    },
    {
     "name": "stdout",
     "output_type": "stream",
     "text": [
      "Processing WSI 12 validation_data_12_nonMSIH\n"
     ]
    },
    {
     "name": "stderr",
     "output_type": "stream",
     "text": [
      " 39%|███▊      | 12/31 [05:34<06:46, 21.39s/it]"
     ]
    },
    {
     "name": "stdout",
     "output_type": "stream",
     "text": [
      "Processing WSI 13 validation_data_13_nonMSIH\n"
     ]
    },
    {
     "name": "stderr",
     "output_type": "stream",
     "text": [
      " 42%|████▏     | 13/31 [06:10<07:47, 25.99s/it]"
     ]
    },
    {
     "name": "stdout",
     "output_type": "stream",
     "text": [
      "Processing WSI 14 validation_data_14_nonMSIH\n"
     ]
    },
    {
     "name": "stderr",
     "output_type": "stream",
     "text": [
      " 45%|████▌     | 14/31 [06:18<05:46, 20.38s/it]"
     ]
    },
    {
     "name": "stdout",
     "output_type": "stream",
     "text": [
      "Processing WSI 15 validation_data_15_MSIH\n"
     ]
    },
    {
     "name": "stderr",
     "output_type": "stream",
     "text": [
      " 48%|████▊     | 15/31 [06:32<04:57, 18.56s/it]"
     ]
    },
    {
     "name": "stdout",
     "output_type": "stream",
     "text": [
      "Processing WSI 16 validation_data_16_nonMSIH\n"
     ]
    },
    {
     "name": "stderr",
     "output_type": "stream",
     "text": [
      " 52%|█████▏    | 16/31 [06:36<03:32, 14.14s/it]"
     ]
    },
    {
     "name": "stdout",
     "output_type": "stream",
     "text": [
      "Processing WSI 17 validation_data_17_nonMSIH\n"
     ]
    },
    {
     "name": "stderr",
     "output_type": "stream",
     "text": [
      " 55%|█████▍    | 17/31 [07:07<04:27, 19.09s/it]"
     ]
    },
    {
     "name": "stdout",
     "output_type": "stream",
     "text": [
      "Processing WSI 18 validation_data_18_nonMSIH\n"
     ]
    },
    {
     "name": "stderr",
     "output_type": "stream",
     "text": [
      " 58%|█████▊    | 18/31 [07:14<03:22, 15.55s/it]"
     ]
    },
    {
     "name": "stdout",
     "output_type": "stream",
     "text": [
      "Processing WSI 19 validation_data_19_nonMSIH\n"
     ]
    },
    {
     "name": "stderr",
     "output_type": "stream",
     "text": [
      " 61%|██████▏   | 19/31 [07:26<02:53, 14.44s/it]"
     ]
    },
    {
     "name": "stdout",
     "output_type": "stream",
     "text": [
      "Processing WSI 20 validation_data_20_nonMSIH\n"
     ]
    },
    {
     "name": "stderr",
     "output_type": "stream",
     "text": [
      " 65%|██████▍   | 20/31 [07:39<02:34, 14.07s/it]"
     ]
    },
    {
     "name": "stdout",
     "output_type": "stream",
     "text": [
      "Processing WSI 21 validation_data_21_nonMSIH\n"
     ]
    },
    {
     "name": "stderr",
     "output_type": "stream",
     "text": [
      " 68%|██████▊   | 21/31 [07:50<02:12, 13.24s/it]"
     ]
    },
    {
     "name": "stdout",
     "output_type": "stream",
     "text": [
      "Processing WSI 22 validation_data_22_nonMSIH\n"
     ]
    },
    {
     "name": "stderr",
     "output_type": "stream",
     "text": [
      " 71%|███████   | 22/31 [07:57<01:41, 11.29s/it]"
     ]
    },
    {
     "name": "stdout",
     "output_type": "stream",
     "text": [
      "Processing WSI 23 validation_data_23_nonMSIH\n"
     ]
    },
    {
     "name": "stderr",
     "output_type": "stream",
     "text": [
      " 74%|███████▍  | 23/31 [08:06<01:24, 10.57s/it]"
     ]
    },
    {
     "name": "stdout",
     "output_type": "stream",
     "text": [
      "Processing WSI 24 validation_data_24_nonMSIH\n"
     ]
    },
    {
     "name": "stderr",
     "output_type": "stream",
     "text": [
      " 77%|███████▋  | 24/31 [08:39<02:00, 17.26s/it]"
     ]
    },
    {
     "name": "stdout",
     "output_type": "stream",
     "text": [
      "Processing WSI 25 validation_data_25_nonMSIH\n"
     ]
    },
    {
     "name": "stderr",
     "output_type": "stream",
     "text": [
      " 81%|████████  | 25/31 [09:00<01:50, 18.43s/it]"
     ]
    },
    {
     "name": "stdout",
     "output_type": "stream",
     "text": [
      "Processing WSI 26 validation_data_26_nonMSIH\n"
     ]
    },
    {
     "name": "stderr",
     "output_type": "stream",
     "text": [
      " 84%|████████▍ | 26/31 [09:18<01:31, 18.20s/it]"
     ]
    },
    {
     "name": "stdout",
     "output_type": "stream",
     "text": [
      "Processing WSI 27 validation_data_27_MSIH\n"
     ]
    },
    {
     "name": "stderr",
     "output_type": "stream",
     "text": [
      " 87%|████████▋ | 27/31 [09:48<01:27, 21.95s/it]"
     ]
    },
    {
     "name": "stdout",
     "output_type": "stream",
     "text": [
      "Processing WSI 28 validation_data_28_MSIH\n"
     ]
    },
    {
     "name": "stderr",
     "output_type": "stream",
     "text": [
      " 90%|█████████ | 28/31 [10:04<01:00, 20.15s/it]"
     ]
    },
    {
     "name": "stdout",
     "output_type": "stream",
     "text": [
      "Processing WSI 29 validation_data_29_MSIH\n"
     ]
    },
    {
     "name": "stderr",
     "output_type": "stream",
     "text": [
      " 94%|█████████▎| 29/31 [10:09<00:31, 15.62s/it]"
     ]
    },
    {
     "name": "stdout",
     "output_type": "stream",
     "text": [
      "Processing WSI 30 validation_data_30_nonMSIH\n"
     ]
    },
    {
     "name": "stderr",
     "output_type": "stream",
     "text": [
      " 97%|█████████▋| 30/31 [10:35<00:18, 18.60s/it]"
     ]
    },
    {
     "name": "stdout",
     "output_type": "stream",
     "text": [
      "Processing WSI 31 validation_data_31_nonMSIH\n"
     ]
    },
    {
     "name": "stderr",
     "output_type": "stream",
     "text": [
      "100%|██████████| 31/31 [10:50<00:00, 20.98s/it]\n"
     ]
    }
   ],
   "source": [
    "extract_embeddings_patch_by_patch(model, data_loader, FEATURES_SAVE_DIR)"
   ]
  },
  {
   "cell_type": "markdown",
   "metadata": {},
   "source": [
    "## Reload saved Features (same like averaging appraoch)"
   ]
  },
  {
   "cell_type": "code",
   "execution_count": 9,
   "metadata": {},
   "outputs": [
    {
     "name": "stdout",
     "output_type": "stream",
     "text": [
      "wsi_folder_pathE:\\\\KSA Project\\\\dataset\\\\testing\\\\CAIMAN_features\\TCGA-3L-AA1B_nonMSIH\n",
      "patch file E:\\\\KSA Project\\\\dataset\\\\testing\\\\CAIMAN_features\\TCGA-3L-AA1B_nonMSIH\\TCGA-3L-AA1B_nonMSIH_0.pt\n",
      "loaded patch feature vector shapetorch.Size([5, 512])\n",
      "loaded patch feature vector shapetensor([[10.3492,  7.8456, 15.9951,  ...,  3.5675,  0.1409, 22.2074],\n",
      "        [10.4047,  8.2960, 17.0138,  ...,  3.4913,  0.1405, 23.3252],\n",
      "        [11.1867,  8.2246, 15.1310,  ...,  3.7105,  0.1650, 22.6287],\n",
      "        [11.5462,  8.3224, 15.3200,  ...,  3.7407,  0.1912, 23.1283],\n",
      "        [10.4556,  8.1382, 17.7604,  ...,  3.3586,  0.1968, 24.5821]],\n",
      "       device='cuda:0')\n",
      "loaded patch feature shape after mean torch.Size([512])\n",
      "patch file E:\\\\KSA Project\\\\dataset\\\\testing\\\\CAIMAN_features\\TCGA-3L-AA1B_nonMSIH\\TCGA-3L-AA1B_nonMSIH_1.pt\n",
      "loaded patch feature vector shapetorch.Size([5, 512])\n",
      "loaded patch feature vector shapetensor([[10.7634,  8.5093, 17.8861,  ...,  3.6829,  0.1401, 24.4079],\n",
      "        [11.1720,  8.6508, 18.1954,  ...,  3.7514,  0.1358, 24.8268],\n",
      "        [11.7423,  8.5194, 15.5370,  ...,  3.7580,  0.1996, 23.3296],\n",
      "        [11.7490,  8.6051, 15.7384,  ...,  3.8491,  0.1444, 23.7329],\n",
      "        [10.2253,  8.1069, 17.6576,  ...,  3.2173,  0.1775, 24.2737]],\n",
      "       device='cuda:0')\n",
      "loaded patch feature shape after mean torch.Size([512])\n",
      "patch file E:\\\\KSA Project\\\\dataset\\\\testing\\\\CAIMAN_features\\TCGA-3L-AA1B_nonMSIH\\TCGA-3L-AA1B_nonMSIH_2.pt\n",
      "loaded patch feature vector shapetorch.Size([5, 512])\n",
      "loaded patch feature vector shapetensor([[12.3652,  9.4916, 19.3000,  ...,  4.1201,  0.1584, 27.0940],\n",
      "        [12.3414,  9.4774, 19.2851,  ...,  4.1033,  0.1580, 27.0423],\n",
      "        [12.3530,  9.4830, 19.2985,  ...,  4.1212,  0.1567, 27.0924],\n",
      "        [12.4026,  9.4249, 19.2395,  ...,  4.0286,  0.1538, 27.0516],\n",
      "        [12.3434,  9.4778, 19.2867,  ...,  4.1035,  0.1580, 27.0402]],\n",
      "       device='cuda:0')\n",
      "loaded patch feature shape after mean torch.Size([512])\n",
      "patch file E:\\\\KSA Project\\\\dataset\\\\testing\\\\CAIMAN_features\\TCGA-3L-AA1B_nonMSIH\\TCGA-3L-AA1B_nonMSIH_3.pt\n",
      "loaded patch feature vector shapetorch.Size([5, 512])\n",
      "loaded patch feature vector shapetensor([[12.1778,  9.0984, 18.8726,  ...,  3.8785,  0.1545, 26.7404],\n",
      "        [ 7.9514,  6.7769, 14.6031,  ...,  3.0121,  0.2210, 19.9498],\n",
      "        [12.2736,  9.4086, 19.1902,  ...,  4.0831,  0.1569, 26.9053],\n",
      "        [10.3009,  6.9569, 15.1564,  ...,  3.5082,  0.2724, 22.3965],\n",
      "        [10.2812,  6.3260, 14.9992,  ...,  3.4605,  0.2583, 22.0052]],\n",
      "       device='cuda:0')\n",
      "loaded patch feature shape after mean torch.Size([512])\n",
      "patch file E:\\\\KSA Project\\\\dataset\\\\testing\\\\CAIMAN_features\\TCGA-3L-AA1B_nonMSIH\\TCGA-3L-AA1B_nonMSIH_4.pt\n",
      "loaded patch feature vector shapetorch.Size([5, 512])\n",
      "loaded patch feature vector shapetensor([[12.0203,  9.2405, 18.9732,  ...,  4.2450,  0.2895, 26.7834],\n",
      "        [11.6993,  8.8927, 19.0259,  ...,  4.1254,  0.2375, 26.7426],\n",
      "        [11.4201,  8.7232, 18.9256,  ...,  4.1483,  0.1993, 26.6532],\n",
      "        [12.1889,  9.4627, 19.0381,  ...,  4.1002,  0.1638, 27.0358],\n",
      "        [11.3967,  8.7023, 18.8019,  ...,  4.2560,  0.1818, 26.6520]],\n",
      "       device='cuda:0')\n",
      "loaded patch feature shape after mean torch.Size([512])\n",
      "patch file E:\\\\KSA Project\\\\dataset\\\\testing\\\\CAIMAN_features\\TCGA-3L-AA1B_nonMSIH\\TCGA-3L-AA1B_nonMSIH_5.pt\n",
      "loaded patch feature vector shapetorch.Size([5, 512])\n",
      "loaded patch feature vector shapetensor([[12.1356,  9.2787, 19.0582,  ...,  4.2279,  0.2339, 26.9671],\n",
      "        [12.2645,  9.4751, 19.1024,  ...,  4.1473,  0.1453, 27.0334],\n",
      "        [12.3533,  9.4852, 19.2925,  ...,  4.1119,  0.1598, 27.0777],\n",
      "        [12.3585,  9.4835, 19.3053,  ...,  4.1098,  0.1586, 27.0647],\n",
      "        [12.3515,  9.4809, 19.2895,  ...,  4.1188,  0.1582, 27.0586]],\n",
      "       device='cuda:0')\n",
      "loaded patch feature shape after mean torch.Size([512])\n",
      "patch file E:\\\\KSA Project\\\\dataset\\\\testing\\\\CAIMAN_features\\TCGA-3L-AA1B_nonMSIH\\TCGA-3L-AA1B_nonMSIH_6.pt\n",
      "loaded patch feature vector shapetorch.Size([5, 512])\n",
      "loaded patch feature vector shapetensor([[10.3212,  7.8755, 14.7165,  ...,  3.5385,  0.0806, 21.4819],\n",
      "        [10.4721,  7.6951, 14.5732,  ...,  3.5895,  0.0963, 21.5109],\n",
      "        [12.3218,  9.4480, 19.2399,  ...,  4.1030,  0.1585, 26.9851],\n",
      "        [12.3475,  9.4809, 19.2774,  ...,  4.1005,  0.1573, 27.0293],\n",
      "        [12.2860,  9.4398, 19.1879,  ...,  4.0892,  0.1582, 26.8510]],\n",
      "       device='cuda:0')\n",
      "loaded patch feature shape after mean torch.Size([512])\n",
      "patch file E:\\\\KSA Project\\\\dataset\\\\testing\\\\CAIMAN_features\\TCGA-3L-AA1B_nonMSIH\\TCGA-3L-AA1B_nonMSIH_7.pt\n",
      "loaded patch feature vector shapetorch.Size([5, 512])\n",
      "loaded patch feature vector shapetensor([[12.1024,  8.7075, 19.2261,  ...,  4.3282,  0.1850, 26.6390],\n",
      "        [12.4017,  9.4965, 19.3960,  ...,  4.1613,  0.1494, 27.0648],\n",
      "        [12.3689,  9.5019, 19.3863,  ...,  4.1425,  0.1715, 27.1300],\n",
      "        [12.3811,  9.5059, 19.3377,  ...,  4.1338,  0.1611, 27.1367],\n",
      "        [12.3695,  9.5134, 19.1435,  ...,  4.1344,  0.1432, 27.0271]],\n",
      "       device='cuda:0')\n",
      "loaded patch feature shape after mean torch.Size([512])\n",
      "patch file E:\\\\KSA Project\\\\dataset\\\\testing\\\\CAIMAN_features\\TCGA-3L-AA1B_nonMSIH\\TCGA-3L-AA1B_nonMSIH_8.pt\n",
      "loaded patch feature vector shapetorch.Size([5, 512])\n",
      "loaded patch feature vector shapetensor([[12.3216,  9.4563, 19.2572,  ...,  4.0999,  0.1573, 27.0105],\n",
      "        [12.3218,  9.4618, 19.2743,  ...,  4.0957,  0.1593, 27.0059],\n",
      "        [ 9.1935,  6.9562, 15.8406,  ...,  3.3705,  0.1815, 22.3042],\n",
      "        [ 8.3545,  6.8791, 15.4695,  ...,  3.1435,  0.2816, 20.5365],\n",
      "        [11.6505,  8.9422, 18.7055,  ...,  3.5933,  0.1683, 26.1280]],\n",
      "       device='cuda:0')\n",
      "loaded patch feature shape after mean torch.Size([512])\n",
      "patch file E:\\\\KSA Project\\\\dataset\\\\testing\\\\CAIMAN_features\\TCGA-3L-AA1B_nonMSIH\\TCGA-3L-AA1B_nonMSIH_9.pt\n",
      "loaded patch feature vector shapetorch.Size([5, 512])\n",
      "loaded patch feature vector shapetensor([[ 8.6623,  6.9990, 15.2743,  ...,  3.0392,  0.3393, 20.9190],\n",
      "        [ 8.0774,  6.4460, 14.0138,  ...,  2.7742,  0.2772, 19.7725],\n",
      "        [ 7.7468,  6.0949, 13.7173,  ...,  2.6922,  0.2076, 19.6713],\n",
      "        [ 7.9946,  5.8995, 13.7463,  ...,  2.8067,  0.2712, 19.2537],\n",
      "        [ 8.3650,  6.1073, 14.0062,  ...,  2.8160,  0.2197, 19.9412]],\n",
      "       device='cuda:0')\n",
      "loaded patch feature shape after mean torch.Size([512])\n",
      "wsi_folder_pathE:\\\\KSA Project\\\\dataset\\\\testing\\\\CAIMAN_features\\TCGA-4N-A93T_nonMSIH\n",
      "patch file E:\\\\KSA Project\\\\dataset\\\\testing\\\\CAIMAN_features\\TCGA-4N-A93T_nonMSIH\\TCGA-4N-A93T_nonMSIH_0.pt\n",
      "loaded patch feature vector shapetorch.Size([5, 512])\n",
      "loaded patch feature vector shapetensor([[12.4419,  9.5523, 19.4319,  ...,  4.1391,  0.1578, 27.2637],\n",
      "        [12.4497,  9.5587, 19.4492,  ...,  4.1366,  0.1571, 27.2621],\n",
      "        [11.9554,  9.0361, 19.0645,  ...,  4.3312,  0.1949, 27.0299],\n",
      "        [12.3930,  9.5257, 19.3482,  ...,  4.1189,  0.1591, 27.2031],\n",
      "        [12.3768,  9.4321, 19.3593,  ...,  4.0919,  0.1593, 27.2323]],\n",
      "       device='cuda:0')\n",
      "loaded patch feature shape after mean torch.Size([512])\n",
      "patch file E:\\\\KSA Project\\\\dataset\\\\testing\\\\CAIMAN_features\\TCGA-4N-A93T_nonMSIH\\TCGA-4N-A93T_nonMSIH_1.pt\n",
      "loaded patch feature vector shapetorch.Size([5, 512])\n",
      "loaded patch feature vector shapetensor([[12.2256,  9.3367, 19.3316,  ...,  4.2157,  0.1682, 27.1380],\n",
      "        [11.6238,  9.1652, 19.0926,  ...,  4.2467,  0.1979, 26.9575],\n",
      "        [12.0910,  9.2679, 19.1694,  ...,  4.0636,  0.1848, 26.9417],\n",
      "        [11.9519,  9.2112, 19.2672,  ...,  3.8982,  0.2159, 26.8431],\n",
      "        [12.1965,  9.4033, 19.1840,  ...,  4.0881,  0.1679, 26.8843]],\n",
      "       device='cuda:0')\n",
      "loaded patch feature shape after mean torch.Size([512])\n",
      "patch file E:\\\\KSA Project\\\\dataset\\\\testing\\\\CAIMAN_features\\TCGA-4N-A93T_nonMSIH\\TCGA-4N-A93T_nonMSIH_2.pt\n",
      "loaded patch feature vector shapetorch.Size([5, 512])\n",
      "loaded patch feature vector shapetensor([[12.4246,  9.5297, 19.3789,  ...,  4.1256,  0.1568, 27.2068],\n",
      "        [12.3599,  9.4656, 19.2848,  ...,  4.0966,  0.1630, 27.1925],\n",
      "        [12.4341,  9.5467, 19.4080,  ...,  4.1383,  0.1589, 27.2441],\n",
      "        [12.3657,  9.4830, 19.3240,  ...,  4.0455,  0.1530, 27.1059],\n",
      "        [12.4088,  9.5130, 19.3415,  ...,  4.1263,  0.1550, 27.1347]],\n",
      "       device='cuda:0')\n",
      "loaded patch feature shape after mean torch.Size([512])\n",
      "patch file E:\\\\KSA Project\\\\dataset\\\\testing\\\\CAIMAN_features\\TCGA-4N-A93T_nonMSIH\\TCGA-4N-A93T_nonMSIH_3.pt\n",
      "loaded patch feature vector shapetorch.Size([5, 512])\n",
      "loaded patch feature vector shapetensor([[10.9609,  7.9915, 17.8264,  ...,  3.9652,  0.2579, 25.2645],\n",
      "        [10.0894,  7.8680, 17.2635,  ...,  3.5580,  0.2733, 24.7682],\n",
      "        [10.0043,  7.6418, 16.9124,  ...,  3.7768,  0.3732, 23.9923],\n",
      "        [11.5400,  8.9663, 18.2810,  ...,  3.8324,  0.2958, 25.6572],\n",
      "        [10.6437,  7.8034, 17.8425,  ...,  3.7836,  0.2577, 25.0749]],\n",
      "       device='cuda:0')\n",
      "loaded patch feature shape after mean torch.Size([512])\n",
      "patch file E:\\\\KSA Project\\\\dataset\\\\testing\\\\CAIMAN_features\\TCGA-4N-A93T_nonMSIH\\TCGA-4N-A93T_nonMSIH_4.pt\n",
      "loaded patch feature vector shapetorch.Size([5, 512])\n",
      "loaded patch feature vector shapetensor([[11.2500,  8.2079, 18.2964,  ...,  3.7938,  0.1990, 26.0255],\n",
      "        [10.1907,  8.0977, 17.9453,  ...,  3.5963,  0.3396, 24.8659],\n",
      "        [10.9798,  8.7798, 18.2924,  ...,  4.0269,  0.2946, 25.4499],\n",
      "        [10.6575,  8.4300, 18.3684,  ...,  4.0565,  0.2810, 25.1546],\n",
      "        [10.7546,  8.3140, 18.4467,  ...,  3.8568,  0.3167, 25.8362]],\n",
      "       device='cuda:0')\n",
      "loaded patch feature shape after mean torch.Size([512])\n",
      "patch file E:\\\\KSA Project\\\\dataset\\\\testing\\\\CAIMAN_features\\TCGA-4N-A93T_nonMSIH\\TCGA-4N-A93T_nonMSIH_5.pt\n",
      "loaded patch feature vector shapetorch.Size([5, 512])\n",
      "loaded patch feature vector shapetensor([[10.7017,  8.0548, 17.7929,  ...,  3.4922,  0.2473, 25.2016],\n",
      "        [10.3618,  8.5305, 18.4214,  ...,  3.7551,  0.3082, 25.6126],\n",
      "        [ 8.8112,  7.3175, 15.8513,  ...,  3.3574,  0.3272, 21.8557],\n",
      "        [ 9.8023,  8.1748, 17.5295,  ...,  3.3890,  0.2431, 24.1398],\n",
      "        [10.2238,  7.8330, 17.8421,  ...,  3.2881,  0.3914, 24.8147]],\n",
      "       device='cuda:0')\n",
      "loaded patch feature shape after mean torch.Size([512])\n",
      "patch file E:\\\\KSA Project\\\\dataset\\\\testing\\\\CAIMAN_features\\TCGA-4N-A93T_nonMSIH\\TCGA-4N-A93T_nonMSIH_6.pt\n",
      "loaded patch feature vector shapetorch.Size([5, 512])\n",
      "loaded patch feature vector shapetensor([[ 9.2062,  7.4184, 16.3874,  ...,  3.2070,  0.2918, 22.6262],\n",
      "        [ 9.7337,  7.2426, 16.0355,  ...,  3.2086,  0.2459, 22.9821],\n",
      "        [ 9.8402,  7.5759, 16.8963,  ...,  3.3004,  0.3266, 23.7042],\n",
      "        [10.1391,  7.2318, 16.4533,  ...,  3.5855,  0.3784, 23.7001],\n",
      "        [10.4489,  7.8994, 16.8858,  ...,  3.6723,  0.2317, 24.0986]],\n",
      "       device='cuda:0')\n",
      "loaded patch feature shape after mean torch.Size([512])\n",
      "patch file E:\\\\KSA Project\\\\dataset\\\\testing\\\\CAIMAN_features\\TCGA-4N-A93T_nonMSIH\\TCGA-4N-A93T_nonMSIH_7.pt\n",
      "loaded patch feature vector shapetorch.Size([5, 512])\n",
      "loaded patch feature vector shapetensor([[ 9.8226,  7.2395, 16.8143,  ...,  3.6692,  0.4268, 23.2610],\n",
      "        [ 9.0345,  7.2576, 15.9805,  ...,  3.3360,  0.2402, 22.3773],\n",
      "        [ 8.8918,  7.3647, 15.5276,  ...,  3.2927,  0.2244, 21.5281],\n",
      "        [10.1810,  7.6582, 16.5928,  ...,  3.6662,  0.3259, 24.0588],\n",
      "        [ 9.6527,  7.3885, 16.3854,  ...,  3.2517,  0.4026, 23.3875]],\n",
      "       device='cuda:0')\n",
      "loaded patch feature shape after mean torch.Size([512])\n",
      "patch file E:\\\\KSA Project\\\\dataset\\\\testing\\\\CAIMAN_features\\TCGA-4N-A93T_nonMSIH\\TCGA-4N-A93T_nonMSIH_8.pt\n",
      "loaded patch feature vector shapetorch.Size([5, 512])\n",
      "loaded patch feature vector shapetensor([[ 9.8304,  7.6290, 16.7420,  ...,  3.7586,  0.3077, 22.8254],\n",
      "        [12.1101,  9.5633, 19.0261,  ...,  4.1098,  0.1784, 26.7258],\n",
      "        [11.1898,  9.3639, 18.6667,  ...,  3.9061,  0.2716, 25.6393],\n",
      "        [12.4065,  9.5041, 19.3411,  ...,  4.1249,  0.1599, 27.1828],\n",
      "        [12.3427,  9.4613, 19.2988,  ...,  4.1186,  0.1598, 27.0844]],\n",
      "       device='cuda:0')\n",
      "loaded patch feature shape after mean torch.Size([512])\n",
      "patch file E:\\\\KSA Project\\\\dataset\\\\testing\\\\CAIMAN_features\\TCGA-4N-A93T_nonMSIH\\TCGA-4N-A93T_nonMSIH_9.pt\n",
      "loaded patch feature vector shapetorch.Size([5, 512])\n",
      "loaded patch feature vector shapetensor([[12.3914,  9.4864, 19.2561,  ...,  4.0941,  0.1566, 27.0385],\n",
      "        [12.4409,  9.5635, 19.4015,  ...,  4.1378,  0.1604, 27.2403],\n",
      "        [12.3667,  9.5622, 19.3765,  ...,  4.1408,  0.1627, 27.1527],\n",
      "        [12.4384,  9.5547, 19.4323,  ...,  4.1336,  0.1573, 27.2510],\n",
      "        [12.4037,  9.5533, 19.4183,  ...,  4.1319,  0.1586, 27.2191]],\n",
      "       device='cuda:0')\n",
      "loaded patch feature shape after mean torch.Size([512])\n",
      "wsi_folder_pathE:\\\\KSA Project\\\\dataset\\\\testing\\\\CAIMAN_features\\TCGA-5M-AAT4_nonMSIH\n",
      "patch file E:\\\\KSA Project\\\\dataset\\\\testing\\\\CAIMAN_features\\TCGA-5M-AAT4_nonMSIH\\TCGA-5M-AAT4_nonMSIH_0.pt\n",
      "loaded patch feature vector shapetorch.Size([5, 512])\n",
      "loaded patch feature vector shapetensor([[12.3438,  9.4848, 19.3057,  ...,  4.0983,  0.1576, 27.0498],\n",
      "        [12.3116,  9.4177, 19.3179,  ...,  4.0543,  0.1555, 27.0334],\n",
      "        [12.3449,  9.4803, 19.2873,  ...,  4.1127,  0.1584, 27.0603],\n",
      "        [12.2889,  9.3822, 19.3125,  ...,  3.9523,  0.1588, 27.0309],\n",
      "        [12.3167,  9.4623, 19.2809,  ...,  4.1107,  0.1582, 27.0281]],\n",
      "       device='cuda:0')\n",
      "loaded patch feature shape after mean torch.Size([512])\n",
      "patch file E:\\\\KSA Project\\\\dataset\\\\testing\\\\CAIMAN_features\\TCGA-5M-AAT4_nonMSIH\\TCGA-5M-AAT4_nonMSIH_1.pt\n",
      "loaded patch feature vector shapetorch.Size([5, 512])\n",
      "loaded patch feature vector shapetensor([[12.3192,  9.4737, 19.2982,  ...,  4.0796,  0.1696, 27.0381],\n",
      "        [11.7790,  8.8818, 18.6905,  ...,  3.7759,  0.1963, 26.6105],\n",
      "        [12.3257,  9.4675, 19.2915,  ...,  4.0811,  0.1565, 27.0166],\n",
      "        [ 9.8165,  6.8963, 16.8730,  ...,  3.5907,  0.2799, 23.7584],\n",
      "        [12.2822,  9.4670, 19.2572,  ...,  4.0551,  0.1624, 27.0470]],\n",
      "       device='cuda:0')\n",
      "loaded patch feature shape after mean torch.Size([512])\n",
      "patch file E:\\\\KSA Project\\\\dataset\\\\testing\\\\CAIMAN_features\\TCGA-5M-AAT4_nonMSIH\\TCGA-5M-AAT4_nonMSIH_2.pt\n",
      "loaded patch feature vector shapetorch.Size([5, 512])\n",
      "loaded patch feature vector shapetensor([[ 8.6474,  6.8182, 15.6701,  ...,  3.1229,  0.3099, 21.5974],\n",
      "        [ 8.5050,  6.5848, 14.7614,  ...,  3.1030,  0.3422, 20.9972],\n",
      "        [ 8.8408,  6.9394, 15.3237,  ...,  3.1232,  0.2348, 21.5120],\n",
      "        [ 8.7438,  6.6064, 14.8782,  ...,  3.1962,  0.2711, 20.8372],\n",
      "        [ 8.7079,  6.9523, 15.1674,  ...,  3.2768,  0.3501, 21.3821]],\n",
      "       device='cuda:0')\n",
      "loaded patch feature shape after mean torch.Size([512])\n",
      "patch file E:\\\\KSA Project\\\\dataset\\\\testing\\\\CAIMAN_features\\TCGA-5M-AAT4_nonMSIH\\TCGA-5M-AAT4_nonMSIH_3.pt\n",
      "loaded patch feature vector shapetorch.Size([5, 512])\n",
      "loaded patch feature vector shapetensor([[ 8.7216,  6.7388, 15.1674,  ...,  3.1575,  0.3672, 20.8875],\n",
      "        [ 9.0919,  7.6087, 16.6315,  ...,  3.6179,  0.3103, 22.9835],\n",
      "        [ 8.7834,  6.8212, 15.0677,  ...,  3.1136,  0.2357, 21.0992],\n",
      "        [ 9.0216,  6.9116, 15.7004,  ...,  3.2825,  0.2482, 21.5566],\n",
      "        [ 9.0195,  6.7540, 15.6818,  ...,  3.1845,  0.2384, 21.7175]],\n",
      "       device='cuda:0')\n",
      "loaded patch feature shape after mean torch.Size([512])\n",
      "patch file E:\\\\KSA Project\\\\dataset\\\\testing\\\\CAIMAN_features\\TCGA-5M-AAT4_nonMSIH\\TCGA-5M-AAT4_nonMSIH_4.pt\n",
      "loaded patch feature vector shapetorch.Size([5, 512])\n",
      "loaded patch feature vector shapetensor([[ 8.4971,  6.5689, 14.8530,  ...,  3.2030,  0.2532, 20.7583],\n",
      "        [ 8.9807,  7.0064, 15.5018,  ...,  3.3328,  0.2678, 22.2140],\n",
      "        [ 9.3407,  7.2948, 15.6793,  ...,  3.2513,  0.2999, 22.0750],\n",
      "        [ 9.0559,  6.9682, 15.7481,  ...,  3.4160,  0.2736, 22.0205],\n",
      "        [ 8.9953,  6.8882, 15.3089,  ...,  3.2158,  0.2809, 21.7094]],\n",
      "       device='cuda:0')\n",
      "loaded patch feature shape after mean torch.Size([512])\n",
      "patch file E:\\\\KSA Project\\\\dataset\\\\testing\\\\CAIMAN_features\\TCGA-5M-AAT4_nonMSIH\\TCGA-5M-AAT4_nonMSIH_5.pt\n",
      "loaded patch feature vector shapetorch.Size([5, 512])\n",
      "loaded patch feature vector shapetensor([[ 8.6134,  6.7372, 14.7883,  ...,  2.8880,  0.3226, 20.8445],\n",
      "        [ 9.0107,  7.0741, 15.2922,  ...,  3.2877,  0.2564, 21.7195],\n",
      "        [ 8.2582,  6.3152, 14.1006,  ...,  2.6773,  0.2575, 20.0370],\n",
      "        [ 9.1919,  7.1411, 15.4841,  ...,  3.4192,  0.2965, 21.8790],\n",
      "        [ 8.6833,  6.8377, 15.4148,  ...,  2.9976,  0.2462, 20.9868]],\n",
      "       device='cuda:0')\n",
      "loaded patch feature shape after mean torch.Size([512])\n",
      "patch file E:\\\\KSA Project\\\\dataset\\\\testing\\\\CAIMAN_features\\TCGA-5M-AAT4_nonMSIH\\TCGA-5M-AAT4_nonMSIH_6.pt\n",
      "loaded patch feature vector shapetorch.Size([5, 512])\n",
      "loaded patch feature vector shapetensor([[ 8.4137,  6.1717, 14.1101,  ...,  2.9859,  0.3267, 20.4961],\n",
      "        [ 9.1054,  6.9460, 16.1371,  ...,  3.3408,  0.2427, 22.0357],\n",
      "        [ 8.9391,  6.9444, 15.6672,  ...,  3.2209,  0.3123, 21.6993],\n",
      "        [ 8.8981,  7.1499, 15.6657,  ...,  3.0547,  0.2782, 21.7068],\n",
      "        [ 8.6155,  6.5913, 14.3259,  ...,  2.9023,  0.2932, 20.5622]],\n",
      "       device='cuda:0')\n",
      "loaded patch feature shape after mean torch.Size([512])\n",
      "patch file E:\\\\KSA Project\\\\dataset\\\\testing\\\\CAIMAN_features\\TCGA-5M-AAT4_nonMSIH\\TCGA-5M-AAT4_nonMSIH_7.pt\n",
      "loaded patch feature vector shapetorch.Size([5, 512])\n",
      "loaded patch feature vector shapetensor([[10.0041,  7.1617, 16.3291,  ...,  3.4869,  0.3643, 23.6311],\n",
      "        [ 8.4998,  6.6699, 15.0778,  ...,  3.0085,  0.2752, 21.1660],\n",
      "        [ 9.7422,  7.3061, 16.2972,  ...,  3.3567,  0.3473, 23.5724],\n",
      "        [ 8.9451,  6.6422, 14.7944,  ...,  3.2751,  0.2810, 21.3924],\n",
      "        [ 9.3865,  6.9315, 15.6732,  ...,  3.0483,  0.3316, 22.2704]],\n",
      "       device='cuda:0')\n",
      "loaded patch feature shape after mean torch.Size([512])\n",
      "patch file E:\\\\KSA Project\\\\dataset\\\\testing\\\\CAIMAN_features\\TCGA-5M-AAT4_nonMSIH\\TCGA-5M-AAT4_nonMSIH_8.pt\n",
      "loaded patch feature vector shapetorch.Size([5, 512])\n",
      "loaded patch feature vector shapetensor([[ 9.4748,  7.2132, 16.5308,  ...,  3.3092,  0.2874, 23.4326],\n",
      "        [ 9.1350,  6.8350, 15.6560,  ...,  3.6223,  0.3303, 22.3786],\n",
      "        [10.0885,  7.9515, 16.6952,  ...,  3.6302,  0.3171, 23.6561],\n",
      "        [ 9.5633,  7.2184, 16.7313,  ...,  3.5005,  0.3208, 23.3187],\n",
      "        [ 9.6422,  7.4186, 16.5810,  ...,  3.5750,  0.3197, 23.3997]],\n",
      "       device='cuda:0')\n",
      "loaded patch feature shape after mean torch.Size([512])\n",
      "patch file E:\\\\KSA Project\\\\dataset\\\\testing\\\\CAIMAN_features\\TCGA-5M-AAT4_nonMSIH\\TCGA-5M-AAT4_nonMSIH_9.pt\n",
      "loaded patch feature vector shapetorch.Size([5, 512])\n",
      "loaded patch feature vector shapetensor([[10.2363,  8.0293, 17.4633,  ...,  3.8720,  0.3381, 24.1050],\n",
      "        [ 9.9395,  7.8652, 17.2846,  ...,  3.7883,  0.1853, 24.1762],\n",
      "        [11.2423,  8.1536, 17.7707,  ...,  3.8750,  0.2350, 25.6059],\n",
      "        [10.8240,  8.3373, 17.8325,  ...,  3.6770,  0.2640, 24.9472],\n",
      "        [ 9.9122,  7.9086, 17.5088,  ...,  3.4090,  0.3922, 24.1619]],\n",
      "       device='cuda:0')\n",
      "loaded patch feature shape after mean torch.Size([512])\n",
      "wsi_folder_pathE:\\\\KSA Project\\\\dataset\\\\testing\\\\CAIMAN_features\\TCGA-5M-AAT6_MSIH\n",
      "patch file E:\\\\KSA Project\\\\dataset\\\\testing\\\\CAIMAN_features\\TCGA-5M-AAT6_MSIH\\TCGA-5M-AAT6_MSIH_0.pt\n",
      "loaded patch feature vector shapetorch.Size([5, 512])\n",
      "loaded patch feature vector shapetensor([[12.4470,  9.5602, 19.4609,  ...,  4.1468,  0.1558, 27.2886],\n",
      "        [12.3112,  9.3493, 19.3380,  ...,  3.8120,  0.1834, 27.3899],\n",
      "        [12.4183,  9.5440, 19.4195,  ...,  4.1328,  0.1562, 27.2712],\n",
      "        [10.9952,  7.9842, 18.4935,  ...,  3.7981,  0.3668, 26.1325],\n",
      "        [12.2970,  9.4748, 19.3814,  ...,  4.0507,  0.1630, 27.2595]],\n",
      "       device='cuda:0')\n",
      "loaded patch feature shape after mean torch.Size([512])\n",
      "patch file E:\\\\KSA Project\\\\dataset\\\\testing\\\\CAIMAN_features\\TCGA-5M-AAT6_MSIH\\TCGA-5M-AAT6_MSIH_1.pt\n",
      "loaded patch feature vector shapetorch.Size([5, 512])\n",
      "loaded patch feature vector shapetensor([[12.1599,  9.3273, 19.1570,  ...,  3.9182,  0.1506, 27.2210],\n",
      "        [10.4134,  8.3953, 18.4050,  ...,  3.4384,  0.2662, 26.1124],\n",
      "        [11.1373,  8.4445, 18.3122,  ...,  3.8966,  0.2373, 26.3087],\n",
      "        [ 9.7498,  7.6362, 17.1018,  ...,  3.4433,  0.3676, 24.0157],\n",
      "        [10.1645,  8.5771, 18.3364,  ...,  3.7659,  0.4122, 25.8879]],\n",
      "       device='cuda:0')\n",
      "loaded patch feature shape after mean torch.Size([512])\n",
      "patch file E:\\\\KSA Project\\\\dataset\\\\testing\\\\CAIMAN_features\\TCGA-5M-AAT6_MSIH\\TCGA-5M-AAT6_MSIH_2.pt\n",
      "loaded patch feature vector shapetorch.Size([5, 512])\n",
      "loaded patch feature vector shapetensor([[10.2364,  7.4204, 17.1421,  ...,  3.7693,  0.2694, 23.9795],\n",
      "        [10.0997,  8.1121, 17.5999,  ...,  3.5522,  0.4163, 24.7421],\n",
      "        [11.8712,  8.6813, 18.5270,  ...,  3.9484,  0.2564, 26.7315],\n",
      "        [10.5430,  7.6605, 17.6809,  ...,  3.7472,  0.4214, 25.2560],\n",
      "        [ 9.7787,  7.8181, 17.1357,  ...,  3.4504,  0.3374, 24.5446]],\n",
      "       device='cuda:0')\n",
      "loaded patch feature shape after mean torch.Size([512])\n",
      "patch file E:\\\\KSA Project\\\\dataset\\\\testing\\\\CAIMAN_features\\TCGA-5M-AAT6_MSIH\\TCGA-5M-AAT6_MSIH_3.pt\n",
      "loaded patch feature vector shapetorch.Size([5, 512])\n",
      "loaded patch feature vector shapetensor([[10.7854,  7.8418, 17.0285,  ...,  3.7126,  0.3360, 24.6869],\n",
      "        [10.3842,  8.5296, 18.7774,  ...,  3.6463,  0.3007, 25.4907],\n",
      "        [12.2754,  9.2578, 19.3932,  ...,  4.1335,  0.1853, 26.8685],\n",
      "        [11.6387,  8.6264, 19.2563,  ...,  4.1791,  0.2045, 26.8722],\n",
      "        [11.7978,  9.4138, 19.2577,  ...,  4.1550,  0.1900, 27.0377]],\n",
      "       device='cuda:0')\n",
      "loaded patch feature shape after mean torch.Size([512])\n",
      "patch file E:\\\\KSA Project\\\\dataset\\\\testing\\\\CAIMAN_features\\TCGA-5M-AAT6_MSIH\\TCGA-5M-AAT6_MSIH_4.pt\n",
      "loaded patch feature vector shapetorch.Size([5, 512])\n",
      "loaded patch feature vector shapetensor([[ 9.5391,  7.3425, 15.6319,  ...,  3.3218,  0.3712, 22.6483],\n",
      "        [ 9.6273,  7.8464, 16.4457,  ...,  3.1192,  0.3473, 22.8124],\n",
      "        [ 9.7754,  7.9265, 16.9455,  ...,  3.3831,  0.2932, 23.5245],\n",
      "        [ 9.9839,  7.4073, 15.8490,  ...,  3.4421,  0.2994, 22.8770],\n",
      "        [ 9.3415,  7.4159, 16.1982,  ...,  3.3979,  0.2483, 23.1459]],\n",
      "       device='cuda:0')\n",
      "loaded patch feature shape after mean torch.Size([512])\n",
      "patch file E:\\\\KSA Project\\\\dataset\\\\testing\\\\CAIMAN_features\\TCGA-5M-AAT6_MSIH\\TCGA-5M-AAT6_MSIH_5.pt\n",
      "loaded patch feature vector shapetorch.Size([5, 512])\n",
      "loaded patch feature vector shapetensor([[ 9.6841,  7.4780, 16.7061,  ...,  3.5623,  0.3624, 23.8273],\n",
      "        [ 9.6759,  7.7284, 17.0690,  ...,  3.2757,  0.3224, 23.6262],\n",
      "        [10.0151,  7.3787, 16.8939,  ...,  3.3551,  0.4335, 22.9308],\n",
      "        [ 9.4792,  6.9632, 15.9158,  ...,  3.3640,  0.1934, 22.5799],\n",
      "        [ 9.2200,  7.2098, 16.4547,  ...,  3.4975,  0.3389, 22.7459]],\n",
      "       device='cuda:0')\n",
      "loaded patch feature shape after mean torch.Size([512])\n",
      "patch file E:\\\\KSA Project\\\\dataset\\\\testing\\\\CAIMAN_features\\TCGA-5M-AAT6_MSIH\\TCGA-5M-AAT6_MSIH_6.pt\n",
      "loaded patch feature vector shapetorch.Size([5, 512])\n",
      "loaded patch feature vector shapetensor([[ 9.7048,  7.3076, 16.3545,  ...,  3.1138,  0.2430, 23.0734],\n",
      "        [10.1506,  7.3071, 16.2965,  ...,  3.3050,  0.2077, 23.3626],\n",
      "        [ 9.5528,  7.0677, 16.5915,  ...,  3.5651,  0.2752, 23.2959],\n",
      "        [ 9.7299,  7.8209, 16.6828,  ...,  3.5769,  0.4785, 23.3029],\n",
      "        [ 9.7923,  7.2965, 15.7513,  ...,  3.2799,  0.3043, 22.0031]],\n",
      "       device='cuda:0')\n",
      "loaded patch feature shape after mean torch.Size([512])\n",
      "patch file E:\\\\KSA Project\\\\dataset\\\\testing\\\\CAIMAN_features\\TCGA-5M-AAT6_MSIH\\TCGA-5M-AAT6_MSIH_7.pt\n",
      "loaded patch feature vector shapetorch.Size([5, 512])\n",
      "loaded patch feature vector shapetensor([[ 9.7572,  7.9311, 16.4014,  ...,  3.2679,  0.2350, 22.8671],\n",
      "        [ 9.6459,  7.2127, 15.8555,  ...,  3.5025,  0.2890, 23.2961],\n",
      "        [ 9.9349,  7.8332, 16.6281,  ...,  3.4769,  0.2436, 23.5720],\n",
      "        [10.1849,  8.0144, 17.0765,  ...,  3.4408,  0.3320, 23.4101],\n",
      "        [ 9.5254,  7.7064, 17.0077,  ...,  3.3626,  0.3553, 23.1735]],\n",
      "       device='cuda:0')\n",
      "loaded patch feature shape after mean torch.Size([512])\n",
      "patch file E:\\\\KSA Project\\\\dataset\\\\testing\\\\CAIMAN_features\\TCGA-5M-AAT6_MSIH\\TCGA-5M-AAT6_MSIH_8.pt\n",
      "loaded patch feature vector shapetorch.Size([5, 512])\n",
      "loaded patch feature vector shapetensor([[10.3335,  8.1435, 17.4821,  ...,  3.8937,  0.3655, 24.5542],\n",
      "        [10.1257,  8.1122, 17.9029,  ...,  3.5981,  0.4124, 24.8520],\n",
      "        [10.0147,  7.6490, 17.4911,  ...,  3.5978,  0.3238, 24.2016],\n",
      "        [10.3856,  8.0883, 17.6743,  ...,  3.7330,  0.3459, 24.8817],\n",
      "        [ 9.8452,  7.9883, 17.4479,  ...,  3.7420,  0.2689, 24.1415]],\n",
      "       device='cuda:0')\n",
      "loaded patch feature shape after mean torch.Size([512])\n",
      "patch file E:\\\\KSA Project\\\\dataset\\\\testing\\\\CAIMAN_features\\TCGA-5M-AAT6_MSIH\\TCGA-5M-AAT6_MSIH_9.pt\n",
      "loaded patch feature vector shapetorch.Size([5, 512])\n",
      "loaded patch feature vector shapetensor([[10.3836,  7.7873, 17.2904,  ...,  3.8421,  0.3900, 24.4185],\n",
      "        [11.2266,  8.7404, 18.6536,  ...,  4.1492,  0.2247, 26.2825],\n",
      "        [ 9.6846,  7.7450, 17.0892,  ...,  3.6350,  0.2776, 23.6922],\n",
      "        [10.6544,  8.4085, 18.3742,  ...,  3.7540,  0.2543, 25.5743],\n",
      "        [10.4617,  8.2824, 18.0470,  ...,  3.8607,  0.2787, 25.1116]],\n",
      "       device='cuda:0')\n",
      "loaded patch feature shape after mean torch.Size([512])\n",
      "wsi_folder_pathE:\\\\KSA Project\\\\dataset\\\\testing\\\\CAIMAN_features\\TCGA-A6-2686_MSIH\n",
      "patch file E:\\\\KSA Project\\\\dataset\\\\testing\\\\CAIMAN_features\\TCGA-A6-2686_MSIH\\TCGA-A6-2686_MSIH_0.pt\n",
      "loaded patch feature vector shapetorch.Size([5, 512])\n",
      "loaded patch feature vector shapetensor([[12.2675,  9.4474, 19.2699,  ...,  4.1471,  0.1543, 26.9122],\n",
      "        [12.3171,  9.3928, 19.0930,  ...,  4.0033,  0.1677, 26.9825],\n",
      "        [12.2578,  9.4799, 19.2852,  ...,  4.0766,  0.1604, 26.9536],\n",
      "        [12.2609,  8.9742, 18.7187,  ...,  3.6678,  0.1495, 26.5379],\n",
      "        [12.3081,  9.3574, 19.1898,  ...,  4.1034,  0.1663, 26.8716]],\n",
      "       device='cuda:0')\n",
      "loaded patch feature shape after mean torch.Size([512])\n",
      "patch file E:\\\\KSA Project\\\\dataset\\\\testing\\\\CAIMAN_features\\TCGA-A6-2686_MSIH\\TCGA-A6-2686_MSIH_1.pt\n",
      "loaded patch feature vector shapetorch.Size([5, 512])\n",
      "loaded patch feature vector shapetensor([[12.3920,  9.4826, 19.2696,  ...,  4.1055,  0.1579, 27.0871],\n",
      "        [10.9054,  6.8825, 16.4915,  ...,  3.9030,  0.1655, 23.7933],\n",
      "        [12.3645,  9.5045, 19.3216,  ...,  4.1202,  0.1534, 27.1187],\n",
      "        [ 9.2153,  5.9552, 15.6320,  ...,  3.4229,  0.2893, 21.6043],\n",
      "        [12.4260,  9.5104, 19.2470,  ...,  3.9589,  0.1511, 27.1526]],\n",
      "       device='cuda:0')\n",
      "loaded patch feature shape after mean torch.Size([512])\n",
      "patch file E:\\\\KSA Project\\\\dataset\\\\testing\\\\CAIMAN_features\\TCGA-A6-2686_MSIH\\TCGA-A6-2686_MSIH_2.pt\n",
      "loaded patch feature vector shapetorch.Size([5, 512])\n",
      "loaded patch feature vector shapetensor([[ 8.2776,  6.5131, 14.3023,  ...,  2.5995,  0.2537, 20.0943],\n",
      "        [ 8.8601,  6.6174, 14.8297,  ...,  2.8375,  0.2307, 21.3287],\n",
      "        [ 8.7599,  6.8268, 15.4042,  ...,  3.1252,  0.2766, 21.6507],\n",
      "        [ 8.8042,  6.4604, 14.4935,  ...,  3.0697,  0.2405, 20.7278],\n",
      "        [ 8.7463,  7.0391, 15.6132,  ...,  3.2620,  0.2236, 22.1309]],\n",
      "       device='cuda:0')\n",
      "loaded patch feature shape after mean torch.Size([512])\n",
      "patch file E:\\\\KSA Project\\\\dataset\\\\testing\\\\CAIMAN_features\\TCGA-A6-2686_MSIH\\TCGA-A6-2686_MSIH_3.pt\n",
      "loaded patch feature vector shapetorch.Size([5, 512])\n",
      "loaded patch feature vector shapetensor([[ 7.2992,  5.2812, 12.3333,  ...,  2.6365,  0.2574, 17.4604],\n",
      "        [ 6.5262,  5.0415, 11.8497,  ...,  2.3057,  0.2939, 16.4517],\n",
      "        [ 7.2403,  5.4345, 12.5657,  ...,  2.3580,  0.3084, 18.2176],\n",
      "        [ 6.8439,  4.8401, 11.6939,  ...,  2.4486,  0.2125, 17.1981],\n",
      "        [ 6.6216,  5.3787, 12.1217,  ...,  2.2512,  0.2094, 16.9951]],\n",
      "       device='cuda:0')\n",
      "loaded patch feature shape after mean torch.Size([512])\n",
      "patch file E:\\\\KSA Project\\\\dataset\\\\testing\\\\CAIMAN_features\\TCGA-A6-2686_MSIH\\TCGA-A6-2686_MSIH_4.pt\n",
      "loaded patch feature vector shapetorch.Size([5, 512])\n",
      "loaded patch feature vector shapetensor([[ 7.0621,  4.9669, 12.1643,  ...,  2.3678,  0.2036, 17.3976],\n",
      "        [ 7.0067,  5.7324, 12.4291,  ...,  2.2957,  0.2126, 17.2350],\n",
      "        [ 6.5565,  4.9899, 11.8693,  ...,  2.3033,  0.2487, 16.4393],\n",
      "        [ 8.4882,  5.5877, 12.3041,  ...,  2.6047,  0.2119, 18.8131],\n",
      "        [ 7.1545,  5.5996, 12.3674,  ...,  2.6157,  0.2093, 17.4786]],\n",
      "       device='cuda:0')\n",
      "loaded patch feature shape after mean torch.Size([512])\n",
      "patch file E:\\\\KSA Project\\\\dataset\\\\testing\\\\CAIMAN_features\\TCGA-A6-2686_MSIH\\TCGA-A6-2686_MSIH_5.pt\n",
      "loaded patch feature vector shapetorch.Size([5, 512])\n",
      "loaded patch feature vector shapetensor([[ 6.2759,  4.9907, 11.5863,  ...,  2.1462,  0.1753, 16.5072],\n",
      "        [ 7.9059,  6.3617, 14.2728,  ...,  2.7422,  0.1588, 19.8359],\n",
      "        [ 6.6682,  5.3771, 11.6611,  ...,  2.1324,  0.2761, 16.6868],\n",
      "        [ 6.8123,  5.2118, 11.9021,  ...,  2.2135,  0.2881, 17.0810],\n",
      "        [ 7.9593,  6.6248, 14.4868,  ...,  2.6555,  0.2279, 20.0331]],\n",
      "       device='cuda:0')\n",
      "loaded patch feature shape after mean torch.Size([512])\n",
      "patch file E:\\\\KSA Project\\\\dataset\\\\testing\\\\CAIMAN_features\\TCGA-A6-2686_MSIH\\TCGA-A6-2686_MSIH_6.pt\n",
      "loaded patch feature vector shapetorch.Size([5, 512])\n",
      "loaded patch feature vector shapetensor([[ 6.4512,  5.1651, 11.9396,  ...,  2.1612,  0.2310, 16.6720],\n",
      "        [ 6.8519,  5.6855, 12.3362,  ...,  2.5699,  0.2562, 17.3487],\n",
      "        [ 6.6220,  5.2776, 12.2505,  ...,  2.4897,  0.2426, 17.2285],\n",
      "        [ 7.4953,  5.7558, 12.5855,  ...,  2.8700,  0.2001, 18.1685],\n",
      "        [ 6.6206,  5.4396, 12.2832,  ...,  2.4358,  0.2845, 16.5991]],\n",
      "       device='cuda:0')\n",
      "loaded patch feature shape after mean torch.Size([512])\n",
      "patch file E:\\\\KSA Project\\\\dataset\\\\testing\\\\CAIMAN_features\\TCGA-A6-2686_MSIH\\TCGA-A6-2686_MSIH_7.pt\n",
      "loaded patch feature vector shapetorch.Size([5, 512])\n",
      "loaded patch feature vector shapetensor([[ 7.4282,  5.5312, 12.8230,  ...,  2.7183,  0.2168, 18.1272],\n",
      "        [ 7.1711,  5.5383, 12.0728,  ...,  2.2369,  0.2310, 17.1371],\n",
      "        [ 6.6853,  5.1654, 11.6637,  ...,  2.1406,  0.1883, 16.6405],\n",
      "        [ 6.4002,  5.3411, 11.7742,  ...,  2.0850,  0.2539, 16.2715],\n",
      "        [ 7.2563,  5.3655, 12.2604,  ...,  2.3318,  0.2120, 17.5339]],\n",
      "       device='cuda:0')\n",
      "loaded patch feature shape after mean torch.Size([512])\n",
      "patch file E:\\\\KSA Project\\\\dataset\\\\testing\\\\CAIMAN_features\\TCGA-A6-2686_MSIH\\TCGA-A6-2686_MSIH_8.pt\n",
      "loaded patch feature vector shapetorch.Size([5, 512])\n",
      "loaded patch feature vector shapetensor([[ 8.6376,  6.7685, 14.4306,  ...,  3.1594,  0.2932, 20.9611],\n",
      "        [ 6.4005,  5.1876, 11.4399,  ...,  2.1737,  0.1995, 16.0922],\n",
      "        [10.3941,  8.0204, 18.6909,  ...,  3.6788,  0.3037, 25.5657],\n",
      "        [ 6.9221,  4.9220, 11.6835,  ...,  2.0256,  0.3051, 16.6783],\n",
      "        [ 9.2702,  6.1997, 14.1138,  ...,  2.8996,  0.2794, 21.0347]],\n",
      "       device='cuda:0')\n",
      "loaded patch feature shape after mean torch.Size([512])\n",
      "patch file E:\\\\KSA Project\\\\dataset\\\\testing\\\\CAIMAN_features\\TCGA-A6-2686_MSIH\\TCGA-A6-2686_MSIH_9.pt\n",
      "loaded patch feature vector shapetorch.Size([5, 512])\n",
      "loaded patch feature vector shapetensor([[10.8668,  8.3964, 18.5655,  ...,  3.6119,  0.4521, 26.4066],\n",
      "        [ 7.7956,  5.8447, 14.1346,  ...,  2.4839,  0.2462, 20.1735],\n",
      "        [ 8.0123,  6.1934, 14.3698,  ...,  2.6331,  0.3321, 20.2862],\n",
      "        [ 7.5445,  5.5105, 13.0632,  ...,  2.5931,  0.2260, 17.9664],\n",
      "        [ 8.4850,  5.4824, 14.1927,  ...,  3.1173,  0.2020, 19.9774]],\n",
      "       device='cuda:0')\n",
      "loaded patch feature shape after mean torch.Size([512])\n"
     ]
    }
   ],
   "source": [
    "import os\n",
    "import torch\n",
    "\n",
    "def load_features_and_labels(save_dir):\n",
    "    wsi_feature_list = []\n",
    "    label_list = []\n",
    "\n",
    "    # Loop through each WSI folder\n",
    "    for wsi_folder in os.listdir(save_dir):\n",
    "        wsi_folder_path = os.path.join(save_dir, wsi_folder)\n",
    "        print(f'wsi_folder_path{wsi_folder_path}')\n",
    "\n",
    "        if os.path.isdir(wsi_folder_path):  # Ensure it is a directory\n",
    "            patch_features_list = []\n",
    "            # Loop through each patch file (.pt) inside the WSI folder\n",
    "            for file_name in os.listdir(wsi_folder_path):\n",
    "                if file_name.endswith('.pt'):\n",
    "                    file_path = os.path.join(wsi_folder_path, file_name)\n",
    "                    print(f'patch file {file_path}')\n",
    "                    # Load the five-crop features for the patch\n",
    "                    patch_features = torch.load(file_path)  # Loaded as [[],[],[],[],[]]\n",
    "                    # patch_features = torch.stack(patch_features)  # Convert list of tensors to tensor [5, feature_dim]\n",
    "                    print(f'loaded patch feature vector shape{patch_features.shape}')\n",
    "                    print(f'loaded patch feature vector shape{patch_features}')\n",
    "                    # Average the five-crop features to get one feature for the patch\n",
    "                    avg_patch_feature = patch_features.mean(dim=0)  # [feature_dim]\n",
    "                    print(f'loaded patch feature shape after mean {avg_patch_feature.shape}')\n",
    "                    patch_features_list.append(avg_patch_feature)\n",
    "            # After all patches are processed, average them to get one feature for the WSI\n",
    "            wsi_features = torch.stack(patch_features_list).mean(dim=0)  # [feature_dim]\n",
    "            # Append WSI feature to the list\n",
    "            wsi_feature_list.append(wsi_features)\n",
    "            # Determine label based on WSI folder name\n",
    "            if '_nonMSI' in wsi_folder:\n",
    "                label_list.append(0)\n",
    "            elif '_MSI' in wsi_folder:\n",
    "                label_list.append(1)\n",
    "    # Stack all WSI features and labels\n",
    "    features = torch.stack(wsi_feature_list)\n",
    "    labels = torch.tensor(label_list)\n",
    "    return features, labels\n",
    "\n",
    "# Define directories for train, validation, and test splits\n",
    "save_dir = FEATURES_SAVE_DIR\n",
    "# Load features and labels for each split\n",
    "saved_features, saved_labels = load_features_and_labels(save_dir)"
   ]
  },
  {
   "cell_type": "code",
   "execution_count": null,
   "metadata": {},
   "outputs": [],
   "source": [
    "loaded patch feature vector shapetorch.Size([5, 512])\n",
    "loaded patch feature vector shapetensor([[10.3492,  7.8456, 15.9951,  ...,  3.5675,  0.1409, 22.2074],\n",
    "        [10.4047,  8.2960, 17.0138,  ...,  3.4913,  0.1405, 23.3252],\n",
    "        [11.1867,  8.2246, 15.1310,  ...,  3.7105,  0.1650, 22.6287],\n",
    "        [11.5462,  8.3224, 15.3200,  ...,  3.7407,  0.1912, 23.1283],\n",
    "        [10.4556,  8.1382, 17.7604,  ...,  3.3586,  0.1968, 24.5821]],\n",
    "       device='cuda:0')\n",
    "loaded patch feature shape after mean torch.Size([512])\n",
    "patch file E:\\\\KSA Project\\\\dataset\\\\testing\\\\CAIMAN_features\\TCGA-3L-AA1B_nonMSIH\\TCGA-3L-AA1B_nonMSIH_1.pt\n",
    "loaded patch feature vector shapetorch.Size([5, 512])\n",
    "loaded patch feature vector shapetensor([[10.7634,  8.5093, 17.8861,  ...,  3.6829,  0.1401, 24.4079],\n",
    "        [11.1720,  8.6508, 18.1954,  ...,  3.7514,  0.1358, 24.8268],\n",
    "        [11.7423,  8.5194, 15.5370,  ...,  3.7580,  0.1996, 23.3296],\n",
    "        [11.7490,  8.6051, 15.7384,  ...,  3.8491,  0.1444, 23.7329],\n",
    "        [10.2253,  8.1069, 17.6576,  ...,  3.2173,  0.1775, 24.2737]],\n",
    "       device='cuda:0')\n",
    "loaded patch feature shape after mean torch.Size([512])\n",
    "patch file E:\\\\KSA Project\\\\dataset\\\\testing\\\\CAIMAN_features\\TCGA-3L-AA1B_nonMSIH\\TCGA-3L-AA1B_nonMSIH_2.pt\n",
    "loaded patch feature vector shapetorch.Size([5, 512])\n",
    "loaded patch feature vector shapetensor([[12.3652,  9.4916, 19.3000,  ...,  4.1201,  0.1584, 27.0940],\n",
    "        [12.3414,  9.4774, 19.2851,  ...,  4.1033,  0.1580, 27.0423],\n",
    "        [12.3530,  9.4830, 19.2985,  ...,  4.1212,  0.1567, 27.0924],\n",
    "        [12.4026,  9.4249, 19.2395,  ...,  4.0286,  0.1538, 27.0516],"
   ]
  },
  {
   "cell_type": "code",
   "execution_count": 10,
   "metadata": {},
   "outputs": [
    {
     "name": "stdout",
     "output_type": "stream",
     "text": [
      "Train features shape torch.Size([5, 512]) and Labels shape is torch.Size([5])\n",
      "Unique labels in set: tensor([0, 1])\n"
     ]
    }
   ],
   "source": [
    "print(f'Train features shape {saved_features.shape} and Labels shape is {saved_labels.shape}')\n",
    "# Print unique labels in each set to verify correctness\n",
    "print(f'Unique labels in set: {torch.unique(saved_labels)}')"
   ]
  }
 ],
 "metadata": {
  "kernelspec": {
   "display_name": "tcga",
   "language": "python",
   "name": "python3"
  },
  "language_info": {
   "codemirror_mode": {
    "name": "ipython",
    "version": 3
   },
   "file_extension": ".py",
   "mimetype": "text/x-python",
   "name": "python",
   "nbconvert_exporter": "python",
   "pygments_lexer": "ipython3",
   "version": "3.12.3"
  }
 },
 "nbformat": 4,
 "nbformat_minor": 2
}
