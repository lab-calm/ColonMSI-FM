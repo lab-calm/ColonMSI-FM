{
 "cells": [
  {
   "cell_type": "code",
   "execution_count": 6,
   "metadata": {},
   "outputs": [],
   "source": [
    "import torch\n",
    "import torchvision\n",
    "import os\n",
    "from os.path import join as j_\n",
    "from PIL import Image\n",
    "import pandas as pd\n",
    "from tqdm import tqdm\n",
    "import numpy as np\n",
    "import time\n",
    "import random\n",
    "# print(torch.version)\n",
    "# print(torch.version.cuda)\n",
    "# os.environ['CUDA_LAUNCH_BLOCKING'] = '1'\n",
    "from torchvision import transforms\n",
    "from torch.utils.data import DataLoader, Dataset, Sampler\n",
    "from torchvision.transforms import Lambda\n",
    "from PIL import Image\n",
    "Image.MAX_IMAGE_PIXELS = None\n",
    "# loading all packages here to start\n",
    "from uni import get_encoder\n",
    "from uni.downstream.eval_patch_features.linear_probe import eval_linear_probe\n",
    "from uni.downstream.eval_patch_features.fewshot import eval_knn, eval_fewshot\n",
    "from uni.downstream.eval_patch_features.protonet import ProtoNet, prototype_topk_vote\n",
    "from uni.downstream.eval_patch_features.metrics import get_eval_metrics, print_metrics\n",
    "from uni.downstream.utils import concat_images\n",
    "device = torch.device(\"cuda\" if torch.cuda.is_available() else \"cpu\")"
   ]
  },
  {
   "cell_type": "code",
   "execution_count": null,
   "metadata": {},
   "outputs": [],
   "source": [
    "# configs\n",
    "BATCH_SIZE = 1 # load each slide all tiles sequentially \n",
    "K_FOLDS_PATH = r\"E:\\KSA Project\\\\dataset\\\\splits\\kfolds_IDARS.csv\"\n",
    "DATA_PATH = r\"E:\\\\KSA Project\\\\dataset\\\\testing\\\\Patches\"\n",
    "FEATURES_SAVE_DIR = r\"E:\\\\KSA Project\\\\dataset\\\\testing\\\\uni_features\"\n",
    "# torch.tensor([1.2, 3.4]).device"
   ]
  },
  {
   "cell_type": "markdown",
   "metadata": {},
   "source": [
    "### Downloading UNI weights + Creating Model"
   ]
  },
  {
   "cell_type": "markdown",
   "metadata": {},
   "source": [
    "The function `get_encoder` performs the commands above, downloading in the checkpoint in the `./assets/ckpts/` relative path of this GitHub repository."
   ]
  },
  {
   "cell_type": "code",
   "execution_count": null,
   "metadata": {},
   "outputs": [],
   "source": [
    "from uni import get_encoder\n",
    "model, transform = get_encoder(enc_name='uni', device=device)"
   ]
  },
  {
   "cell_type": "markdown",
   "metadata": {},
   "source": [
    "### Data Loaders"
   ]
  },
  {
   "cell_type": "code",
   "execution_count": 4,
   "metadata": {},
   "outputs": [
    {
     "name": "stdout",
     "output_type": "stream",
     "text": [
      "Number of Slides: 290\n",
      "Number of tiles: 176575\n",
      "Length of train_loader: 290\n",
      "Number of Slides: 58\n",
      "Number of tiles: 36278\n",
      "Length of val_loader: 58\n",
      "Number of Slides: 61\n",
      "Number of tiles: 31773\n",
      "Length of test_loader: 61\n"
     ]
    }
   ],
   "source": [
    "from dataloader import PatchLoader, SlideBatchSampler\n",
    "mode = 1 # for sequentially data/patches loading we will use mode =1 and mode= 2 for random loading.\n",
    "transform = transforms.Compose([\n",
    "    transforms.FiveCrop(224),  # this is a list of 5 crops\n",
    "    Lambda(lambda crops: torch.stack([transforms.ToTensor()(crop) for crop in crops]))  # convert to tensor and stack\n",
    "])\n",
    "\n",
    "def create_dataloader(label_file, data_path, transform, num_samples, mode):\n",
    "    dataset = PatchLoader(label_file=label_file, data_path=data_path, transform=transform, num_samples=num_samples, mode=mode)\n",
    "    batch_sampler = SlideBatchSampler(dataset.ntiles)\n",
    "    dataloader = DataLoader(dataset, batch_sampler=batch_sampler, num_workers=0, pin_memory=False)\n",
    "    return dataloader\n",
    "\n",
    "# Create DataLoaders\n",
    "data_loader = create_dataloader(label_file=K_FOLDS_PATH,data_path=DATA_PATH,\n",
    "                                     transform=transform,num_samples=None,mode=mode)\n",
    "print(f\"Length of data_loader: {len(data_loader)}\")"
   ]
  },
  {
   "cell_type": "code",
   "execution_count": 35,
   "metadata": {},
   "outputs": [
    {
     "name": "stdout",
     "output_type": "stream",
     "text": [
      "Batch 1\n",
      "Images shape: torch.Size([50, 5, 3, 224, 224])\n",
      "Labels: tensor([0, 0, 0, 0, 0, 0, 0, 0, 0, 0, 0, 0, 0, 0, 0, 0, 0, 0, 0, 0, 0, 0, 0, 0,\n",
      "        0, 0, 0, 0, 0, 0, 0, 0, 0, 0, 0, 0, 0, 0, 0, 0, 0, 0, 0, 0, 0, 0, 0, 0,\n",
      "        0, 0])\n",
      "Batch 2\n",
      "Images shape: torch.Size([1156, 5, 3, 224, 224])\n",
      "Labels: tensor([0, 0, 0,  ..., 0, 0, 0])\n",
      "Batch 3\n",
      "Images shape: torch.Size([1645, 5, 3, 224, 224])\n",
      "Labels: tensor([0, 0, 0,  ..., 0, 0, 0])\n"
     ]
    }
   ],
   "source": [
    "for batch_idx, (images, labels) in enumerate(data_loader):\n",
    "    print(f\"Batch {batch_idx+1}\")\n",
    "    print(f\"Images shape: {images.shape}\")\n",
    "    print(f\"Labels: {labels}\")\n",
    "    if batch_idx == 2:  # Only print a few batches to check if it's working\n",
    "        break"
   ]
  },
  {
   "cell_type": "markdown",
   "metadata": {},
   "source": [
    "### DataLoader testing"
   ]
  },
  {
   "cell_type": "code",
   "execution_count": 13,
   "metadata": {},
   "outputs": [
    {
     "name": "stdout",
     "output_type": "stream",
     "text": [
      "\n",
      "Test Loader Unique Labels and Counts:\n",
      "Unique labels: tensor([0, 1])\n",
      "Counts: tensor([26839,  4934])\n"
     ]
    }
   ],
   "source": [
    "\n",
    "def print_unique_class_representation(loader):\n",
    "    def get_unique_classes(loader):\n",
    "        all_labels = []\n",
    "        for _, labels in loader:\n",
    "            all_labels.extend(labels.tolist())\n",
    "        unique_labels, counts = torch.unique(torch.tensor(all_labels), return_counts=True)\n",
    "        return unique_labels, counts\n",
    "\n",
    "    unique_labels, counts = get_unique_classes(loader)\n",
    "    print(\"\\nTest Loader Unique Labels and Counts:\")\n",
    "    print(f\"Unique labels: {unique_labels}\")\n",
    "    print(f\"Counts: {counts}\")\n",
    "\n",
    "# Example usage:\n",
    "print_unique_class_representation(data_loader)\n",
    "# for batch_idx, (images, labels) in enumerate(data_loader):\n",
    "#     print(f\"Batch {batch_idx}: {len(images)} images\")\n",
    "#     print(f\"Images shape: {images.shape}\")\n",
    "#     unique_labels, counts = torch.unique(labels, return_counts=True)\n",
    "#     print(f\"Unique labels: {unique_labels}\")\n",
    "#     print(f\"Counts: {counts}\")\n",
    "#     if batch_idx == 2:  # Only print a few batches to check if it's working\n",
    "#         break"
   ]
  },
  {
   "cell_type": "markdown",
   "metadata": {},
   "source": [
    "### ROI Feature Extraction on FiveCrop Patches Using Averaging Approach"
   ]
  },
  {
   "cell_type": "code",
   "execution_count": 5,
   "metadata": {},
   "outputs": [],
   "source": [
    "@torch.no_grad()\n",
    "def extract_wsi_features_with_chunks(model, dataloader, chunk_size=1000):\n",
    "    \"\"\"\n",
    "    Extract features for each WSI by averaging the patch features for each slide, with dynamic chunking to avoid memory issues.\n",
    "    \n",
    "    Args:\n",
    "    model: The feature extractor model.\n",
    "    dataloader: DataLoader with batches of patches for each slide.\n",
    "    chunk_size: Number of patches to process at a time to avoid OOM.\n",
    "    \n",
    "    Returns:\n",
    "    asset_dict: Dictionary containing aggregated WSI features and labels.\n",
    "    \"\"\"\n",
    "    all_embeddings = []  # Initialize as empty list\n",
    "    all_labels = []  # Initialize as empty list\n",
    "    device = next(model.parameters()).device\n",
    "    print(f'The size of input dataloader is {len(dataloader)}')\n",
    "\n",
    "    for batch_idx, (batch, target) in tqdm(enumerate(dataloader), total=len(dataloader)):\n",
    "        num_patches, num_crops, c, h, w = batch.size()  # [num_patches, 5, 3, 224, 224]\n",
    "        \n",
    "        # Flatten the crops into individual images\n",
    "        batch = batch.view(-1, c, h, w)\n",
    "        target = target.repeat_interleave(num_crops)\n",
    "\n",
    "        # Initialize empty list to store embeddings for this batch (WSI)\n",
    "        wsi_embeddings = []\n",
    "\n",
    "        # Determine number of patches in the current batch\n",
    "        num_patches = batch.size(0)\n",
    "        # print(f'No of patches in this batch including five crop is: {num_patches}')\n",
    "        # Calculate number of chunks needed\n",
    "        num_chunks = (num_patches + chunk_size - 1) // chunk_size\n",
    "        \n",
    "        # Process the batch in chunks\n",
    "        for i in range(num_chunks):\n",
    "            start_idx = i * chunk_size\n",
    "            end_idx = min(start_idx + chunk_size, num_patches)\n",
    "            chunk = batch[start_idx:end_idx].to(device)  # Take a chunk of patches\n",
    "            # print(f'The selected chunk shape is: {chunk.shape}')\n",
    "            \n",
    "            with torch.inference_mode():\n",
    "                chunk_embeddings = model(chunk).detach().cpu()  # Extract features for the chunk\n",
    "                # print(f'The shape of chunk embeddings from model : {chunk_embeddings.shape}')\n",
    "                chunk_embeddings = chunk_embeddings.view(-1, num_crops, chunk_embeddings.size(-1))  # Reshape to [chunk_size, num_crops, embedding_dim]\n",
    "                # print(f'After Reshape the shape of chunk embeddings: {chunk_embeddings.shape}')\n",
    "                # Mean across the 5 crops\n",
    "                chunk_embeddings = chunk_embeddings.mean(dim=1)  # [chunk_size, embedding_dim]\n",
    "                wsi_embeddings.append(chunk_embeddings)  # Store the chunk's embeddings\n",
    "        \n",
    "        # Concatenate embeddings for all chunks in this WSI\n",
    "        wsi_embeddings = torch.cat(wsi_embeddings, dim=0)  # [num_patches, embedding_dim]\n",
    "        # print(f'Shape of concatenated WSI embeddings: {wsi_embeddings.shape}')\n",
    "        # Mean across all patches in the WSI\n",
    "        slide_embedding = wsi_embeddings.mean(dim=0)  # [embedding_dim]\n",
    "        # print(f'Shape of WSI after averaging {slide_embedding.shape}')\n",
    "        # Take one label for the WSI\n",
    "        wsi_label = target[0].item()\n",
    "\n",
    "        all_embeddings.append(slide_embedding.numpy())\n",
    "        all_labels.append(wsi_label)\n",
    "\n",
    "    # Stack the embeddings and labels\n",
    "    asset_dict = {\n",
    "        \"embeddings\": np.stack(all_embeddings).astype(np.float32),  # [num_slides, embedding_dim]\n",
    "        \"labels\": np.array(all_labels),\n",
    "    }\n",
    "\n",
    "    return asset_dict"
   ]
  },
  {
   "cell_type": "code",
   "execution_count": null,
   "metadata": {},
   "outputs": [
    {
     "name": "stdout",
     "output_type": "stream",
     "text": [
      "The size of input dataloader is 290\n"
     ]
    },
    {
     "name": "stderr",
     "output_type": "stream",
     "text": [
      "  0%|          | 0/290 [00:00<?, ?it/s]c:\\Anaconda3\\envs\\tcga\\Lib\\site-packages\\timm\\models\\vision_transformer.py:92: UserWarning: 1Torch was not compiled with flash attention. (Triggered internally at C:\\cb\\pytorch_1000000000000\\work\\aten\\src\\ATen\\native\\transformers\\cuda\\sdp_utils.cpp:455.)\n",
      "  x = F.scaled_dot_product_attention(\n",
      "100%|██████████| 290/290 [1:53:09<00:00, 23.41s/it]  \n"
     ]
    },
    {
     "name": "stdout",
     "output_type": "stream",
     "text": [
      "The size of input dataloader is 58\n"
     ]
    },
    {
     "name": "stderr",
     "output_type": "stream",
     "text": [
      "100%|██████████| 58/58 [24:07<00:00, 24.95s/it] \n"
     ]
    },
    {
     "name": "stdout",
     "output_type": "stream",
     "text": [
      "The size of input dataloader is 61\n"
     ]
    },
    {
     "name": "stderr",
     "output_type": "stream",
     "text": [
      "100%|██████████| 61/61 [21:44<00:00, 21.39s/it]"
     ]
    },
    {
     "name": "stdout",
     "output_type": "stream",
     "text": [
      "Took 9541.786 seconds\n",
      "Train features shape torch.Size([290, 1024]) and Labels shape is torch.Size([290])\n",
      "Valid features shape torch.Size([58, 1024]) and Labels shape is torch.Size([58])\n",
      "Test features shape torch.Size([61, 1024]) and Labels shape is torch.Size([61])\n"
     ]
    },
    {
     "name": "stderr",
     "output_type": "stream",
     "text": [
      "\n"
     ]
    }
   ],
   "source": [
    "\n",
    "# get path to example data\n",
    "# extract patch features from the train and test datasets (returns dictionary of embeddings and labels)\n",
    "start = time.time()\n",
    "\n",
    "train_features = extract_wsi_features_with_chunks(model,data_loader)\n",
    "\n",
    "# convert these to torch\n",
    "feats = torch.Tensor(train_features['embeddings'])\n",
    "labels = torch.Tensor(train_features['labels']).type(torch.long)\n",
    "\n",
    "elapsed = time.time() - start\n",
    "print(f'Took {elapsed:.03f} seconds')\n",
    "print(f'Features shape {feats.shape} and Labels shape is {labels.shape}')"
   ]
  },
  {
   "cell_type": "markdown",
   "metadata": {},
   "source": [
    "## Save Feature"
   ]
  },
  {
   "cell_type": "code",
   "execution_count": 53,
   "metadata": {},
   "outputs": [],
   "source": [
    "\n",
    "def save_features(features, dataloader, save_dir):\n",
    "    os.makedirs(save_dir, exist_ok=True)\n",
    "    slides = dataloader.dataset.slides\n",
    "    for i, slide in enumerate(slides):\n",
    "        slide_feats = features[i]\n",
    "        slide_name = slide.split('.')[0]\n",
    "        # save as torch .pt file \n",
    "        save_path = os.path.join(save_dir, f'{slide_name}.pt')\n",
    "        torch.save(slide_feats, save_path)\n",
    "        # print(f'Saved features for slide {slide_name} to {save_path}')\n",
    "\n",
    "save_features(feats, data_loader, FEATURES_SAVE_DIR)"
   ]
  }
 ],
 "metadata": {
  "kernelspec": {
   "display_name": "tcga",
   "language": "python",
   "name": "python3"
  },
  "language_info": {
   "codemirror_mode": {
    "name": "ipython",
    "version": 3
   },
   "file_extension": ".py",
   "mimetype": "text/x-python",
   "name": "python",
   "nbconvert_exporter": "python",
   "pygments_lexer": "ipython3",
   "version": "3.12.3"
  }
 },
 "nbformat": 4,
 "nbformat_minor": 2
}
