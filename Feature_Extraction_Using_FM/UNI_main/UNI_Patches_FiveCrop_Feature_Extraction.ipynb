{
 "cells": [
  {
   "cell_type": "code",
   "execution_count": 9,
   "metadata": {},
   "outputs": [],
   "source": [
    "import torch\n",
    "import torchvision\n",
    "import os\n",
    "import sys\n",
    "from os.path import join as j_\n",
    "from PIL import Image\n",
    "import pandas as pd\n",
    "import numpy as np\n",
    "import time\n",
    "import random\n",
    "from tqdm import tqdm\n",
    "# print(torch.version)\n",
    "# print(torch.version.cuda)\n",
    "# os.environ['CUDA_LAUNCH_BLOCKING'] = '1'\n",
    "from torchvision import transforms\n",
    "from torch.utils.data import DataLoader, Dataset, Sampler\n",
    "from torchvision.transforms import Lambda\n",
    "from PIL import Image\n",
    "Image.MAX_IMAGE_PIXELS = None\n",
    "# loading all packages here to start\n",
    "from uni import get_encoder\n",
    "from uni.downstream.eval_patch_features.linear_probe import eval_linear_probe\n",
    "from uni.downstream.eval_patch_features.fewshot import eval_knn, eval_fewshot\n",
    "from uni.downstream.eval_patch_features.protonet import ProtoNet, prototype_topk_vote\n",
    "from uni.downstream.eval_patch_features.metrics import get_eval_metrics, print_metrics\n",
    "from uni.downstream.utils import concat_images\n",
    "device = torch.device(\"cuda\" if torch.cuda.is_available() else \"cpu\")"
   ]
  },
  {
   "cell_type": "code",
   "execution_count": 10,
   "metadata": {},
   "outputs": [],
   "source": [
    "# configs\n",
    "BATCH_SIZE = 1 # load each slide all tiles sequentially \n",
    "K_FOLDS_PATH = r'E:\\\\Aamir Gulzar\\\\dataset\\\\paip_data\\\\labels\\\\validation_data_MSI.csv'\n",
    "DATA_PATH = r\"E:\\\\Aamir Gulzar\\\\dataset\\\\paip_data\\\\Patches\"\n",
    "FEATURES_SAVE_DIR = r\"E:/Aamir Gulzar/dataset/paip_data/UNI_FiveCrop_Features\"\n"
   ]
  },
  {
   "cell_type": "markdown",
   "metadata": {},
   "source": [
    "### Downloading UNI weights + Creating Model"
   ]
  },
  {
   "cell_type": "markdown",
   "metadata": {},
   "source": [
    "The function `get_encoder` performs the commands above, downloading in the checkpoint in the `./assets/ckpts/` relative path of this GitHub repository."
   ]
  },
  {
   "cell_type": "code",
   "execution_count": null,
   "metadata": {},
   "outputs": [],
   "source": [
    "from uni import get_encoder\n",
    "model, transform = get_encoder(enc_name='uni', device=device)"
   ]
  },
  {
   "cell_type": "markdown",
   "metadata": {},
   "source": [
    "### Data Loaders"
   ]
  },
  {
   "cell_type": "code",
   "execution_count": 12,
   "metadata": {},
   "outputs": [
    {
     "name": "stdout",
     "output_type": "stream",
     "text": [
      "Number of Slides: 31\n",
      "Number of tiles: 29119\n",
      "Length of data_loader: 31\n"
     ]
    }
   ],
   "source": [
    "# import dataloader from one step back directory there is a fine named dataloader.py\n",
    "sys.path.append(\"..\")\n",
    "from dataloader import PatchLoader, SlideBatchSampler\n",
    "from torchvision import transforms\n",
    "\n",
    "mode = 1 # for sequentially data/patches loading we will use mode =1 and mode= 2 for random loading.\n",
    "\n",
    "# transform = transforms.Compose([\n",
    "#     transforms.FiveCrop(224),  # this is a list of 5 crops\n",
    "#     Lambda(lambda crops: torch.stack([transforms.ToTensor()(crop) for crop in crops]))  # convert to tensor and stack\n",
    "# ])\n",
    "\n",
    "simple_transform = transforms.Compose([\n",
    "    transforms.ToTensor(),  # Convert PIL to Tensor\n",
    "])\n",
    "def create_dataloader(label_file, data_path, transform, num_samples, mode):\n",
    "    # Create the dataset\n",
    "    dataset = PatchLoader(label_file=label_file, data_path=data_path, transform=transform, num_samples=num_samples, mode=mode)\n",
    "    # Ensure sequential data loading by disabling shuffle\n",
    "    batch_sampler = SlideBatchSampler(dataset.ntiles)\n",
    "    dataloader = DataLoader(dataset, batch_sampler=batch_sampler, num_workers=0, pin_memory=False)\n",
    "    return dataloader\n",
    "\n",
    "# Create DataLoaders\n",
    "data_loader = create_dataloader(label_file=K_FOLDS_PATH,data_path=DATA_PATH,\n",
    "                                     transform=simple_transform,num_samples=None,mode=mode)\n",
    "print(f\"Length of data_loader: {len(data_loader)}\")"
   ]
  },
  {
   "cell_type": "code",
   "execution_count": 13,
   "metadata": {},
   "outputs": [],
   "source": [
    "# for batch_idx, (images, labels) in enumerate(data_loader):\n",
    "#     print(f\"Batch {batch_idx+1}\")\n",
    "#     print(f\"Images shape: {images.shape}\")\n",
    "#     print(f\"Labels: {labels}\")\n",
    "#     if batch_idx == 5:  # Only print a few batches to check if it's working\n",
    "#         break"
   ]
  },
  {
   "cell_type": "markdown",
   "metadata": {},
   "source": [
    "### DataLoader testing"
   ]
  },
  {
   "cell_type": "code",
   "execution_count": 14,
   "metadata": {},
   "outputs": [],
   "source": [
    "\n",
    "def print_unique_class_representation(dataloader):\n",
    "    def get_unique_classes(loader):\n",
    "        all_labels = []\n",
    "        for _, labels in loader:\n",
    "            all_labels.extend(labels.tolist())\n",
    "        unique_labels, counts = torch.unique(torch.tensor(all_labels), return_counts=True)\n",
    "        return unique_labels, counts\n",
    "    unique_labels, counts = get_unique_classes(dataloader)\n",
    "\n",
    "    print(\"\\nTest Loader Unique Labels and Counts:\")\n",
    "    print(f\"Unique labels: {unique_labels}\")\n",
    "    print(f\"Counts: {counts}\")\n",
    "\n",
    "# Example usage:\n",
    "# print_unique_class_representation(data_loader)\n",
    "# for batch_idx, (images, labels) in enumerate(data_loader):\n",
    "#     print(f\"Batch {batch_idx}: {len(images)} images\")\n",
    "#     print(f\"Images shape: {images.shape}\")\n",
    "#     unique_labels, counts = torch.unique(labels, return_counts=True)\n",
    "#     print(f\"Unique labels: {unique_labels}\")\n",
    "#     print(f\"Counts: {counts}\")\n",
    "#     if batch_idx == 2:  # Only print a few batches to check if it's working\n",
    "#         break"
   ]
  },
  {
   "cell_type": "markdown",
   "metadata": {},
   "source": [
    "### ROI Feature Extraction on FiveCrop Patches Level and Save"
   ]
  },
  {
   "cell_type": "code",
   "execution_count": 15,
   "metadata": {},
   "outputs": [],
   "source": [
    "import torch\n",
    "from torchvision import transforms\n",
    "from torchvision.transforms.functional import to_pil_image\n",
    "import matplotlib.pyplot as plt\n",
    "\n",
    "def extract_embeddings_patch_by_patch(model, dataloader, save_dir):\n",
    "    device = next(model.parameters()).device\n",
    "    print(f'The size of input dataloader is {len(dataloader)}')\n",
    "\n",
    "    for batch_idx, (images, labels) in tqdm(enumerate(dataloader), total=len(dataloader)):\n",
    "        wsi_name = dataloader.dataset.slides[batch_idx]\n",
    "\n",
    "        # Make a new directory for each WSI\n",
    "        save_dir_wsi = os.path.join(save_dir, f'{wsi_name}')\n",
    "        if os.path.exists(save_dir_wsi):\n",
    "            print(f\"WSI {batch_idx+1} {wsi_name} already processed. Skipping...\")\n",
    "            continue\n",
    "        os.makedirs(save_dir_wsi, exist_ok=True)\n",
    "\n",
    "        batch_indices = dataloader.batch_sampler.indices[batch_idx]        \n",
    "\n",
    "        for patch_idx, dataset_idx in enumerate(batch_indices):  # Loop through patches\n",
    "            patch_name = os.path.splitext(os.path.basename(dataloader.dataset.tiles[dataset_idx]))[0]\n",
    "            image = images[patch_idx]  # Extract patch\n",
    "            label = labels[patch_idx]\n",
    "\n",
    "            # Convert to PIL before applying FiveCrop\n",
    "            image_pil = to_pil_image(image)\n",
    "\n",
    "            # Apply FiveCrop manually before passing to model\n",
    "            fivecrop_transform = transforms.FiveCrop(224)\n",
    "            cropped_images = fivecrop_transform(image_pil)  # List of 5 crops as PIL images\n",
    "            # List to store features of all five crops\n",
    "            crop_features = []\n",
    "\n",
    "            for i, crop in enumerate(cropped_images):  # Process each crop separately\n",
    "                crop_transformed = transform(crop)  # Apply the UNI model’s transformation                \n",
    "                crop_transformed = crop_transformed.unsqueeze(0).to(device)  # Add batch dimension\n",
    "\n",
    "                with torch.inference_mode():\n",
    "                    embedding = model(crop_transformed).detach().cpu().squeeze(0)  # Ensure 1D tensor\n",
    "                    crop_features.append(embedding)  # Store each crop’s features\n",
    "            \n",
    "            # Stack all five crops into a single tensor (5, feature_dim)\n",
    "            stacked_features = torch.stack(crop_features)\n",
    "\n",
    "            # Save the tensor in the correct format\n",
    "            save_path = os.path.join(save_dir_wsi, f'{patch_name}.pt')\n",
    "            torch.save(stacked_features, save_path)"
   ]
  },
  {
   "cell_type": "code",
   "execution_count": 16,
   "metadata": {},
   "outputs": [
    {
     "name": "stdout",
     "output_type": "stream",
     "text": [
      "The size of input dataloader is 31\n"
     ]
    },
    {
     "name": "stderr",
     "output_type": "stream",
     "text": [
      "100%|██████████| 31/31 [34:58<00:00, 67.68s/it]  \n"
     ]
    }
   ],
   "source": [
    "extract_embeddings_patch_by_patch(model, data_loader, FEATURES_SAVE_DIR)"
   ]
  },
  {
   "cell_type": "code",
   "execution_count": 13,
   "metadata": {},
   "outputs": [
    {
     "name": "stdout",
     "output_type": "stream",
     "text": [
      "Shape of the data: torch.Size([5, 1024])\n",
      "Values:\n",
      " tensor([[-0.2399, -0.6515, -0.5076,  ...,  0.3224,  1.9748,  0.5773],\n",
      "        [-1.0118, -0.7169, -1.3044,  ...,  0.7268,  1.6948, -0.1991],\n",
      "        [-0.8957, -1.6086, -0.7708,  ...,  0.4210,  1.4487,  0.2510],\n",
      "        [-0.9476,  0.0703, -1.5778,  ...,  0.1153,  0.1450, -1.3170],\n",
      "        [-0.4141, -1.7474, -1.4875,  ...,  0.9523,  1.3589,  0.9226]])\n"
     ]
    },
    {
     "name": "stderr",
     "output_type": "stream",
     "text": [
      "C:\\Users\\DataInsight GPU\\AppData\\Local\\Temp\\ipykernel_267228\\2377260936.py:8: UserWarning: To copy construct from a tensor, it is recommended to use sourceTensor.clone().detach() or sourceTensor.clone().detach().requires_grad_(True), rather than torch.tensor(sourceTensor).\n",
      "  shape = torch.tensor(data).shape  # Get shape\n"
     ]
    }
   ],
   "source": [
    "import torch\n",
    "\n",
    "# Define the path to the .pt file\n",
    "file_path = r\"E:\\Aamir Gulzar\\dataset\\paip_data\\UNI_FiveCrop_Features_old\\validation_data_01_nonMSIH\\validation_data_01_nonMSIH_x0_y1536_3.pt\"\n",
    "\n",
    "try:\n",
    "    data = torch.load(file_path)\n",
    "    shape = torch.tensor(data).shape  # Get shape\n",
    "    print(\"Shape of the data:\", shape)\n",
    "    print(\"Values:\\n\", data)  # Print values\n",
    "except Exception as e:\n",
    "    print(\"Error loading file:\", e)\n"
   ]
  },
  {
   "cell_type": "code",
   "execution_count": null,
   "metadata": {},
   "outputs": [],
   "source": [
    "@torch.no_grad()\n",
    "def extract_embeddings_patch_by_patch_old(model, dataloader, save_dir):\n",
    "    \"\"\"\n",
    "    Extract and save embeddings for each WSI, patch by patch, without averaging the five crops.\n",
    "    Args:\n",
    "    - model: The model used to extract embeddings.\n",
    "    - preprocess: Preprocessing function to apply to the images.\n",
    "    - dataloader: Dataloader providing WSI patches and labels.\n",
    "    - save_dir: Directory where the extracted embeddings will be saved.\n",
    "    Returns:\n",
    "    - None: The function saves the extracted embeddings to disk.\n",
    "    \"\"\"\n",
    "    device = next(model.parameters()).device\n",
    "    print(f'The size of input dataloader is {len(dataloader)}')\n",
    "\n",
    "    for batch_idx, (images, labels) in tqdm(enumerate(dataloader), total=len(dataloader)):\n",
    "        wsi_name = dataloader.dataset.slides[batch_idx]\n",
    "        # make a new directory for each WSI\n",
    "        save_dir_wsi = os.path.join(save_dir, f'{wsi_name}')\n",
    "        # Check if the WSI directory already exists, skip if processed\n",
    "        if os.path.exists(save_dir_wsi):\n",
    "            print(f\"WSI {batch_idx+1} {wsi_name} already processed. Skipping...\")\n",
    "            continue\n",
    "        os.makedirs(save_dir_wsi, exist_ok=True)\n",
    "        batch_indices = dataloader.batch_sampler.indices[batch_idx]        \n",
    "        for patch_idx, dataset_idx in enumerate(batch_indices):  # Loop through indices of patches for current WSI\n",
    "            patch_name = os.path.splitext(os.path.basename(dataloader.dataset.tiles[dataset_idx]))[0]\n",
    "            image = images[patch_idx]\n",
    "            label = labels[patch_idx]\n",
    "            # Reshape image to combine batch and fivecrop dimensions\n",
    "            num_crops, channels, height, width = image.shape\n",
    "            image = image.view(num_crops, channels, height, width).to(device)\n",
    "            # print shape of the patch after reshaping\n",
    "            with torch.inference_mode():\n",
    "                embeddings = model(image).detach().cpu()  # Extract features for the image\n",
    "            # Save embeddings to disk\n",
    "            save_path = os.path.join(save_dir_wsi, f'{patch_name}.pt')\n",
    "            torch.save(embeddings, save_path)\n",
    "            # also save in simple text format in text file\n",
    "            # save_path_txt = os.path.join(save_dir_wsi, f'{wsi_name}_{i}.txt')\n",
    "            # np.savetxt(save_path_txt, embeddings.cpu().numpy())\n",
    "            # print the saved path\n",
    "            # print(f\"Embeddings saved to {save_path_txt}\")"
   ]
  }
 ],
 "metadata": {
  "kernelspec": {
   "display_name": "tcga",
   "language": "python",
   "name": "python3"
  },
  "language_info": {
   "codemirror_mode": {
    "name": "ipython",
    "version": 3
   },
   "file_extension": ".py",
   "mimetype": "text/x-python",
   "name": "python",
   "nbconvert_exporter": "python",
   "pygments_lexer": "ipython3",
   "version": "3.12.3"
  }
 },
 "nbformat": 4,
 "nbformat_minor": 2
}
