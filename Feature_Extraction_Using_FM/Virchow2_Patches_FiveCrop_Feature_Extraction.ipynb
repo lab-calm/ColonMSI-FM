{
 "cells": [
  {
   "cell_type": "markdown",
   "metadata": {},
   "source": [
    "In this appraoch we extracted and saved patch level (Five-crops) features of each WSI. "
   ]
  },
  {
   "cell_type": "code",
   "execution_count": 1,
   "metadata": {},
   "outputs": [
    {
     "name": "stdout",
     "output_type": "stream",
     "text": [
      "cuda\n"
     ]
    }
   ],
   "source": [
    "import torch\n",
    "import torchvision\n",
    "import os\n",
    "from os.path import join as j_\n",
    "from PIL import Image\n",
    "import pandas as pd\n",
    "import numpy as np\n",
    "import time\n",
    "import random\n",
    "from tqdm import tqdm\n",
    "os.environ['CUDA_LAUNCH_BLOCKING'] = '1'\n",
    "from torchvision import transforms\n",
    "from torch.utils.data import DataLoader, Dataset, Sampler\n",
    "from torchvision.transforms import Lambda\n",
    "from PIL import Image\n",
    "Image.MAX_IMAGE_PIXELS = None\n",
    "import timm\n",
    "from timm.data import resolve_data_config\n",
    "from timm.data.transforms_factory import create_transform\n",
    "from timm.layers import SwiGLUPacked\n",
    "device = torch.device(\"cuda\" if torch.cuda.is_available() else \"cpu\")\n",
    "print(device)"
   ]
  },
  {
   "cell_type": "code",
   "execution_count": 2,
   "metadata": {},
   "outputs": [],
   "source": [
    "# configs\n",
    "BATCH_SIZE = 1 # load each slide all tiles sequentially \n",
    "K_FOLDS_PATH = r'E:\\\\Aamir Gulzar\\\\dataset\\\\paip_data\\\\labels\\\\validation_data_MSI.csv'\n",
    "DATA_PATH = r\"E:\\\\Aamir Gulzar\\\\dataset\\\\paip_data\\\\Patches\"\n",
    "FEATURES_SAVE_DIR = r\"E:/Aamir Gulzar/dataset/paip_data/Virchow2_FiveCrop_Features\"\n"
   ]
  },
  {
   "cell_type": "code",
   "execution_count": 3,
   "metadata": {},
   "outputs": [],
   "source": [
    "# need to specify MLP layer and activation function for proper init\n",
    "model = timm.create_model(\"hf-hub:paige-ai/Virchow2\", pretrained=True, mlp_layer=SwiGLUPacked, act_layer=torch.nn.SiLU)\n",
    "model_transforms = create_transform(**resolve_data_config(model.pretrained_cfg, model=model))\n",
    "\n",
    "_ = model.eval()\n",
    "model = model.to(device)"
   ]
  },
  {
   "cell_type": "markdown",
   "metadata": {},
   "source": [
    "### Data Loader"
   ]
  },
  {
   "cell_type": "code",
   "execution_count": 4,
   "metadata": {},
   "outputs": [
    {
     "name": "stdout",
     "output_type": "stream",
     "text": [
      "Number of Slides: 31\n",
      "Number of tiles: 29119\n",
      "Length of data_loader: 31\n"
     ]
    }
   ],
   "source": [
    "from dataloader import PatchLoader, SlideBatchSampler\n",
    "mode = 1 # for sequentially data/patches loading we will use mode =1 and mode= 2 for random loading.\n",
    "\n",
    "transform = transforms.Compose([\n",
    "    transforms.FiveCrop(224),  # this is a list of 5 crops\n",
    "    Lambda(lambda crops: torch.stack([transforms.ToTensor()(crop) for crop in crops]))  # convert to tensor and stack\n",
    "])\n",
    "def create_dataloader(label_file, data_path, transform, num_samples, mode):\n",
    "    # Create the dataset\n",
    "    dataset = PatchLoader(label_file=label_file, data_path=data_path, transform=transform, num_samples=num_samples, mode=mode)\n",
    "    # Ensure sequential data loading by disabling shuffle\n",
    "    batch_sampler = SlideBatchSampler(dataset.ntiles)\n",
    "    dataloader = DataLoader(dataset, batch_sampler=batch_sampler, num_workers=0, pin_memory=False)\n",
    "    return dataloader\n",
    "\n",
    "# Create DataLoaders\n",
    "data_loader = create_dataloader(label_file=K_FOLDS_PATH,data_path=DATA_PATH,\n",
    "                                     transform=transform,num_samples=None,mode=mode)\n",
    "print(f\"Length of data_loader: {len(data_loader)}\")"
   ]
  },
  {
   "cell_type": "code",
   "execution_count": 5,
   "metadata": {},
   "outputs": [],
   "source": [
    "# for batch_idx, (images, labels) in enumerate(data_loader):\n",
    "#     print(f\"Batch {batch_idx+1}\")\n",
    "#     print(f\"Images shape: {images.shape}\")\n",
    "#     print(f\"Labels: {labels}\")\n",
    "#     if batch_idx == 5:  # Only print a few batches to check if it's working\n",
    "#         break"
   ]
  },
  {
   "cell_type": "markdown",
   "metadata": {},
   "source": [
    "### FiveCrop Feature Extraction and Save"
   ]
  },
  {
   "cell_type": "code",
   "execution_count": 6,
   "metadata": {},
   "outputs": [],
   "source": [
    "@torch.no_grad()\n",
    "def extract_embeddings_patch_by_patch(model, preprocess, dataloader, save_dir):\n",
    "    \"\"\"\n",
    "    Extract and save embeddings for each WSI, patch by patch, without averaging the five crops.\n",
    "    Args:\n",
    "    - model: The model used to extract embeddings.\n",
    "    - preprocess: Preprocessing function to apply to the images.\n",
    "    - dataloader: Dataloader providing WSI patches and labels.\n",
    "    - save_dir: Directory where the extracted embeddings will be saved.\n",
    "    Returns:\n",
    "    - None: The function saves the extracted embeddings to disk.\n",
    "    \"\"\"\n",
    "    device = next(model.parameters()).device\n",
    "    print(f'The size of input dataloader is {len(dataloader)}')\n",
    "\n",
    "    for batch_idx, (images, labels) in tqdm(enumerate(dataloader), total=len(dataloader)):\n",
    "        wsi_name = dataloader.dataset.slides[batch_idx]\n",
    "        print(f\"Processing WSI {batch_idx+1} {wsi_name}\")\n",
    "        # make a new directory for each WSI\n",
    "        save_dir_wsi = os.path.join(save_dir, f'{wsi_name}')\n",
    "        # Check if the WSI directory already exists, skip if processed\n",
    "        if os.path.exists(save_dir_wsi):\n",
    "            print(f\"WSI {batch_idx+1} {wsi_name} already processed. Skipping...\")\n",
    "            continue\n",
    "        os.makedirs(save_dir_wsi, exist_ok=True)\n",
    "        batch_indices = dataloader.batch_sampler.indices[batch_idx]        \n",
    "        for patch_idx, dataset_idx in enumerate(batch_indices):  # Loop through indices of patches for current WSI\n",
    "            patch_name = os.path.splitext(os.path.basename(dataloader.dataset.tiles[dataset_idx]))[0]\n",
    "            image = images[patch_idx]\n",
    "            label = labels[patch_idx]\n",
    "            # Reshape image to combine batch and fivecrop dimensions\n",
    "            num_crops, channels, height, width = image.shape\n",
    "            # Convert image to numpy and ensure it is in the correct format\n",
    "            image = image.permute(0, 2, 3, 1).cpu().numpy()\n",
    "            image = (image * 255).astype(np.uint8)\n",
    "            # Preprocess image\n",
    "            image = torch.stack([preprocess(Image.fromarray(im)) for im in image])\n",
    "            # print the preprocessed image \n",
    "            # Move image to the same device as the model\n",
    "            image = image.to(device)\n",
    "            # Extract embeddings\n",
    "            with torch.inference_mode(), torch.autocast(device_type=\"cuda\", dtype=torch.float16):\n",
    "                # Extract embeddings for the chunk\n",
    "                output = model(image).detach().cpu()\n",
    "                # class_token = output[:, 0]  # Extract class token\n",
    "                patch_tokens = output[:, 5:]  # Extract patch tokens, ignoring the first 4 register tokens\n",
    "                # chunk_embeddings = torch.cat([class_token, patch_tokens.mean(dim=1)], dim=-1)  # Concatenate class token and average pool of patch tokens\n",
    "                embeddings = patch_tokens.mean(dim=1)  # Average pool of patch tokens            # print shape of the patch embeddings\n",
    "            # Save embeddings to disk\n",
    "            save_path = os.path.join(save_dir_wsi, f'{patch_name}.pt')\n",
    "            torch.save(embeddings, save_path)\n",
    "            # also save in simple text format in text file\n",
    "            # save_path_txt = os.path.join(save_dir_wsi, f'{wsi_name}_{i}.txt')\n",
    "            # np.savetxt(save_path_txt, embeddings.cpu().numpy())\n",
    "            # print the saved path\n",
    "            # print(f\"Embeddings saved to {save_path}\")"
   ]
  },
  {
   "cell_type": "code",
   "execution_count": null,
   "metadata": {},
   "outputs": [],
   "source": [
    "extract_embeddings_patch_by_patch(model, model_transforms, data_loader, FEATURES_SAVE_DIR)"
   ]
  }
 ],
 "metadata": {
  "kernelspec": {
   "display_name": "tcga",
   "language": "python",
   "name": "python3"
  },
  "language_info": {
   "codemirror_mode": {
    "name": "ipython",
    "version": 3
   },
   "file_extension": ".py",
   "mimetype": "text/x-python",
   "name": "python",
   "nbconvert_exporter": "python",
   "pygments_lexer": "ipython3",
   "version": "3.12.3"
  }
 },
 "nbformat": 4,
 "nbformat_minor": 2
}
