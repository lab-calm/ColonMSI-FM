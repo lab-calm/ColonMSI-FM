{
 "cells": [
  {
   "cell_type": "markdown",
   "metadata": {},
   "source": [
    "## Some Instruction before you run this notebook.\n",
    "1. Change the line 29 of dataloader_clustering module from wsi_id = wsi_file[:12] to wsi_id = wsi_folder\n",
    "2. Edit the second cell configurations according to your paths\n",
    "3. Use patch level features for this. (Fivecrops or Patch Level Averaged)  "
   ]
  },
  {
   "cell_type": "code",
   "execution_count": 3,
   "metadata": {},
   "outputs": [
    {
     "name": "stdout",
     "output_type": "stream",
     "text": [
      "cuda\n"
     ]
    }
   ],
   "source": [
    "import torch\n",
    "import torchvision\n",
    "from torch.utils.data import DataLoader\n",
    "import os\n",
    "from os.path import join as j_\n",
    "from PIL import Image\n",
    "import pandas as pd\n",
    "import numpy as np\n",
    "import time\n",
    "import random\n",
    "from torchvision import transforms\n",
    "from torch.utils.data import DataLoader, Dataset\n",
    "from torchvision.transforms import Lambda\n",
    "from PIL import Image\n",
    "Image.MAX_IMAGE_PIXELS = None\n",
    "# loading all packages here to start\n",
    "from dataloader_clustering import WSIDataset\n",
    "from eval_patch_features.logistic import test_saved_logistic_model\n",
    "from eval_patch_features.ann import test_saved_ann_model\n",
    "from eval_patch_features.knn import test_saved_knn_model\n",
    "from eval_patch_features.protonet import test_saved_protonet_model\n",
    "from eval_patch_features.metrics import get_eval_metrics, print_metrics\n",
    "from utility import calculate_metric_averages, average_confusion_matrices, write_data_in_excel, build_probs_df\n",
    "import warnings\n",
    "warnings.filterwarnings(\"ignore\")\n",
    "device = torch.device(\"cuda\" if torch.cuda.is_available() else \"cpu\")\n",
    "print(device)"
   ]
  },
  {
   "cell_type": "markdown",
   "metadata": {},
   "source": [
    "### Configurations"
   ]
  },
  {
   "cell_type": "code",
   "execution_count": 4,
   "metadata": {},
   "outputs": [],
   "source": [
    "# configs\n",
    "from pathlib import Path\n",
    "VECTOR_DIM = 512  # size of input feature vector\n",
    "HIDDEN_DIM = 768   # size of ANN hidden layer\n",
    "BATCH_SIZE = 8\n",
    "FM_MODEL = \"conch\"\n",
    "RUNS_RESULT = \"average\"\n",
    "ANN_RUNS = 20\n",
    "CLUSTERING_METHOD = 'kmeans'\n",
    "NUM_CLUSTERS = 2\n",
    "NUM_PATCHES_PER_CLUSTER = 0\n",
    "FOLDS = 4  # this fold values is only used to load the respective fold model\n",
    "K_FOLDS_PATH = r\"E:\\Aamir Gulzar\\dataset\\paip_data\\labels\\paip_78slides.csv\"\n",
    "DATA_PATH = f\"E:\\Aamir Gulzar\\dataset\\paip_data\\{FM_MODEL}_FiveCrop_Features\"\n",
    "MODEL_LOAD_PATH = Path(f\"E:\\KSA Project\\KSAproject_pipeline1\\WSI_Classification\\Clustering\\TCGA-CV\\{FM_MODEL}_{NUM_CLUSTERS}Cluster_Classifiers\")\n",
    "OUTPUT_SAVE_PATH = r\"E:\\KSA Project\\KSAproject_pipeline1\\WSI_Classification\\Clustering\\PAIP-EV78\"\n",
    "os.makedirs(OUTPUT_SAVE_PATH, exist_ok=True)\n",
    "# create a excel sheet in the output folder to save the results\n",
    "EVAL_METRICS_EXCEL = os.path.join(OUTPUT_SAVE_PATH, \"PAIP-EV78_2cluster_eval_metrics_mohsin.xlsx\")\n",
    "PROBS_ALL_EXCEL = os.path.join(OUTPUT_SAVE_PATH, \"PAIP-EV78_2cluster_probs_all_mohsin.xlsx\")"
   ]
  },
  {
   "cell_type": "markdown",
   "metadata": {},
   "source": [
    "## Trainer Function"
   ]
  },
  {
   "cell_type": "code",
   "execution_count": 5,
   "metadata": {},
   "outputs": [],
   "source": [
    "def evaluate(fold, test_loader, model_type='linear'):\n",
    "    all_test_feats, all_test_labels,all_test_ids = [], [], []\n",
    "    \n",
    "    for features, label, wsi_id in test_loader:\n",
    "        all_test_feats.append(features)\n",
    "        all_test_labels.append(label)\n",
    "        # Store as single WSI IDs from the batch \n",
    "        if isinstance(wsi_id, (list, tuple)):\n",
    "            all_test_ids.extend(wsi_id)\n",
    "        else:\n",
    "            all_test_ids.append(wsi_id)\n",
    "\n",
    "    # Convert lists to tensors\n",
    "    global test_feats, test_labels\n",
    "    test_feats = torch.cat(all_test_feats)\n",
    "    test_labels = torch.cat([labels.clone().detach() for labels in all_test_labels])\n",
    "    # Select the model based on the input argument\n",
    "    if model_type == 'lin':\n",
    "        eval_metrics, eval_preds = test_saved_logistic_model(\n",
    "            test_feats=test_feats,\n",
    "            test_labels=test_labels,\n",
    "            model_path=MODEL_LOAD_PATH / f\"fold{fold}_logistic_regression.pkl\"\n",
    "        )\n",
    "    elif model_type == 'ann':\n",
    "        eval_metrics, eval_preds = test_saved_ann_model(\n",
    "            input_dim=VECTOR_DIM * NUM_CLUSTERS,\n",
    "            hidden_dim=HIDDEN_DIM,\n",
    "            test_feats=test_feats,\n",
    "            test_labels=test_labels,\n",
    "            model_path=MODEL_LOAD_PATH / f\"fold{fold}_best_ann_model_{VECTOR_DIM * NUM_CLUSTERS}.pth\"\n",
    "        )\n",
    "    elif model_type == 'knn':\n",
    "        eval_metrics, eval_preds = test_saved_knn_model(\n",
    "            test_feats=test_feats,\n",
    "            test_labels=test_labels,\n",
    "            model_path=MODEL_LOAD_PATH / f\"fold{fold}_knn_model.pkl\"\n",
    "        )\n",
    "    elif model_type == 'proto':\n",
    "        eval_metrics, eval_preds = test_saved_protonet_model(\n",
    "            test_feats=test_feats,\n",
    "            test_labels=test_labels,\n",
    "            model_path=MODEL_LOAD_PATH / f\"fold{fold}_protonet_model.pkl\"\n",
    "        )\n",
    "    \n",
    "    else:\n",
    "        raise ValueError(f\"Unsupported model type: {model_type}\")\n",
    "    return eval_metrics, eval_preds, all_test_ids"
   ]
  },
  {
   "cell_type": "markdown",
   "metadata": {},
   "source": [
    "### K-Folds"
   ]
  },
  {
   "cell_type": "code",
   "execution_count": 6,
   "metadata": {},
   "outputs": [],
   "source": [
    "from typing import List, Dict\n",
    "\n",
    "def run_k_folds(save_dir: str, slides: List[List[str]],folds: int, model: str = 'linear'):\n",
    "    results_per_fold = []\n",
    "\n",
    "    for i in range(folds):\n",
    "\n",
    "        # Create datasets and loaders\n",
    "        test_dataset = WSIDataset(save_dir, slides)\n",
    "        test_dataset.apply_clustering(clustering_algorithm=CLUSTERING_METHOD, num_clusters=NUM_CLUSTERS, num_selected_patches=NUM_PATCHES_PER_CLUSTER)\n",
    "        test_loader = DataLoader(test_dataset, batch_size=BATCH_SIZE, shuffle=False)\n",
    "        # Train and evaluate\n",
    "        print(f\"Running Fold {i + 1} with model {model}...\")\n",
    "        eval_metrics,eval_preds, all_test_ids = evaluate(i,test_loader, model_type=model)\n",
    "        print_metrics(eval_metrics)\n",
    "        result = {\n",
    "            **eval_metrics,\n",
    "            **eval_preds,\n",
    "            \"wsi_ids\":all_test_ids ,  # You already have this in train_and_evaluate\n",
    "            \"fold\": i + 1\n",
    "        }\n",
    "        results_per_fold.append(result)\n",
    "    return results_per_fold\n"
   ]
  },
  {
   "cell_type": "markdown",
   "metadata": {},
   "source": [
    "### Main Runner Function"
   ]
  },
  {
   "cell_type": "code",
   "execution_count": 7,
   "metadata": {},
   "outputs": [
    {
     "ename": "FileNotFoundError",
     "evalue": "[Errno 2] No such file or directory: 'E:\\\\Aamir Gulzar\\\\dataset\\\\paip_data\\\\labels\\\\paip_78slides.csv'",
     "output_type": "error",
     "traceback": [
      "\u001b[1;31m---------------------------------------------------------------------------\u001b[0m",
      "\u001b[1;31mFileNotFoundError\u001b[0m                         Traceback (most recent call last)",
      "Cell \u001b[1;32mIn[7], line 2\u001b[0m\n\u001b[0;32m      1\u001b[0m \u001b[38;5;66;03m# Example usage:\u001b[39;00m\n\u001b[1;32m----> 2\u001b[0m slides \u001b[38;5;241m=\u001b[39m \u001b[43mpd\u001b[49m\u001b[38;5;241;43m.\u001b[39;49m\u001b[43mread_csv\u001b[49m\u001b[43m(\u001b[49m\u001b[43mK_FOLDS_PATH\u001b[49m\u001b[43m)\u001b[49m\n\u001b[0;32m      3\u001b[0m slides \u001b[38;5;241m=\u001b[39m slides[\u001b[38;5;124m'\u001b[39m\u001b[38;5;124mFold1\u001b[39m\u001b[38;5;124m'\u001b[39m]\u001b[38;5;241m.\u001b[39mdropna()\u001b[38;5;241m.\u001b[39mvalues\u001b[38;5;241m.\u001b[39mtolist()\n\u001b[0;32m      4\u001b[0m \u001b[38;5;66;03m# Define your folds\u001b[39;00m\n\u001b[0;32m      5\u001b[0m \u001b[38;5;66;03m# Run k-fold cross-validation with different models\u001b[39;00m\n",
      "File \u001b[1;32mc:\\Users\\datai\\anaconda3\\envs\\tcga\\Lib\\site-packages\\pandas\\io\\parsers\\readers.py:1026\u001b[0m, in \u001b[0;36mread_csv\u001b[1;34m(filepath_or_buffer, sep, delimiter, header, names, index_col, usecols, dtype, engine, converters, true_values, false_values, skipinitialspace, skiprows, skipfooter, nrows, na_values, keep_default_na, na_filter, verbose, skip_blank_lines, parse_dates, infer_datetime_format, keep_date_col, date_parser, date_format, dayfirst, cache_dates, iterator, chunksize, compression, thousands, decimal, lineterminator, quotechar, quoting, doublequote, escapechar, comment, encoding, encoding_errors, dialect, on_bad_lines, delim_whitespace, low_memory, memory_map, float_precision, storage_options, dtype_backend)\u001b[0m\n\u001b[0;32m   1013\u001b[0m kwds_defaults \u001b[38;5;241m=\u001b[39m _refine_defaults_read(\n\u001b[0;32m   1014\u001b[0m     dialect,\n\u001b[0;32m   1015\u001b[0m     delimiter,\n\u001b[1;32m   (...)\u001b[0m\n\u001b[0;32m   1022\u001b[0m     dtype_backend\u001b[38;5;241m=\u001b[39mdtype_backend,\n\u001b[0;32m   1023\u001b[0m )\n\u001b[0;32m   1024\u001b[0m kwds\u001b[38;5;241m.\u001b[39mupdate(kwds_defaults)\n\u001b[1;32m-> 1026\u001b[0m \u001b[38;5;28;01mreturn\u001b[39;00m \u001b[43m_read\u001b[49m\u001b[43m(\u001b[49m\u001b[43mfilepath_or_buffer\u001b[49m\u001b[43m,\u001b[49m\u001b[43m \u001b[49m\u001b[43mkwds\u001b[49m\u001b[43m)\u001b[49m\n",
      "File \u001b[1;32mc:\\Users\\datai\\anaconda3\\envs\\tcga\\Lib\\site-packages\\pandas\\io\\parsers\\readers.py:620\u001b[0m, in \u001b[0;36m_read\u001b[1;34m(filepath_or_buffer, kwds)\u001b[0m\n\u001b[0;32m    617\u001b[0m _validate_names(kwds\u001b[38;5;241m.\u001b[39mget(\u001b[38;5;124m\"\u001b[39m\u001b[38;5;124mnames\u001b[39m\u001b[38;5;124m\"\u001b[39m, \u001b[38;5;28;01mNone\u001b[39;00m))\n\u001b[0;32m    619\u001b[0m \u001b[38;5;66;03m# Create the parser.\u001b[39;00m\n\u001b[1;32m--> 620\u001b[0m parser \u001b[38;5;241m=\u001b[39m \u001b[43mTextFileReader\u001b[49m\u001b[43m(\u001b[49m\u001b[43mfilepath_or_buffer\u001b[49m\u001b[43m,\u001b[49m\u001b[43m \u001b[49m\u001b[38;5;241;43m*\u001b[39;49m\u001b[38;5;241;43m*\u001b[39;49m\u001b[43mkwds\u001b[49m\u001b[43m)\u001b[49m\n\u001b[0;32m    622\u001b[0m \u001b[38;5;28;01mif\u001b[39;00m chunksize \u001b[38;5;129;01mor\u001b[39;00m iterator:\n\u001b[0;32m    623\u001b[0m     \u001b[38;5;28;01mreturn\u001b[39;00m parser\n",
      "File \u001b[1;32mc:\\Users\\datai\\anaconda3\\envs\\tcga\\Lib\\site-packages\\pandas\\io\\parsers\\readers.py:1620\u001b[0m, in \u001b[0;36mTextFileReader.__init__\u001b[1;34m(self, f, engine, **kwds)\u001b[0m\n\u001b[0;32m   1617\u001b[0m     \u001b[38;5;28mself\u001b[39m\u001b[38;5;241m.\u001b[39moptions[\u001b[38;5;124m\"\u001b[39m\u001b[38;5;124mhas_index_names\u001b[39m\u001b[38;5;124m\"\u001b[39m] \u001b[38;5;241m=\u001b[39m kwds[\u001b[38;5;124m\"\u001b[39m\u001b[38;5;124mhas_index_names\u001b[39m\u001b[38;5;124m\"\u001b[39m]\n\u001b[0;32m   1619\u001b[0m \u001b[38;5;28mself\u001b[39m\u001b[38;5;241m.\u001b[39mhandles: IOHandles \u001b[38;5;241m|\u001b[39m \u001b[38;5;28;01mNone\u001b[39;00m \u001b[38;5;241m=\u001b[39m \u001b[38;5;28;01mNone\u001b[39;00m\n\u001b[1;32m-> 1620\u001b[0m \u001b[38;5;28mself\u001b[39m\u001b[38;5;241m.\u001b[39m_engine \u001b[38;5;241m=\u001b[39m \u001b[38;5;28;43mself\u001b[39;49m\u001b[38;5;241;43m.\u001b[39;49m\u001b[43m_make_engine\u001b[49m\u001b[43m(\u001b[49m\u001b[43mf\u001b[49m\u001b[43m,\u001b[49m\u001b[43m \u001b[49m\u001b[38;5;28;43mself\u001b[39;49m\u001b[38;5;241;43m.\u001b[39;49m\u001b[43mengine\u001b[49m\u001b[43m)\u001b[49m\n",
      "File \u001b[1;32mc:\\Users\\datai\\anaconda3\\envs\\tcga\\Lib\\site-packages\\pandas\\io\\parsers\\readers.py:1880\u001b[0m, in \u001b[0;36mTextFileReader._make_engine\u001b[1;34m(self, f, engine)\u001b[0m\n\u001b[0;32m   1878\u001b[0m     \u001b[38;5;28;01mif\u001b[39;00m \u001b[38;5;124m\"\u001b[39m\u001b[38;5;124mb\u001b[39m\u001b[38;5;124m\"\u001b[39m \u001b[38;5;129;01mnot\u001b[39;00m \u001b[38;5;129;01min\u001b[39;00m mode:\n\u001b[0;32m   1879\u001b[0m         mode \u001b[38;5;241m+\u001b[39m\u001b[38;5;241m=\u001b[39m \u001b[38;5;124m\"\u001b[39m\u001b[38;5;124mb\u001b[39m\u001b[38;5;124m\"\u001b[39m\n\u001b[1;32m-> 1880\u001b[0m \u001b[38;5;28mself\u001b[39m\u001b[38;5;241m.\u001b[39mhandles \u001b[38;5;241m=\u001b[39m \u001b[43mget_handle\u001b[49m\u001b[43m(\u001b[49m\n\u001b[0;32m   1881\u001b[0m \u001b[43m    \u001b[49m\u001b[43mf\u001b[49m\u001b[43m,\u001b[49m\n\u001b[0;32m   1882\u001b[0m \u001b[43m    \u001b[49m\u001b[43mmode\u001b[49m\u001b[43m,\u001b[49m\n\u001b[0;32m   1883\u001b[0m \u001b[43m    \u001b[49m\u001b[43mencoding\u001b[49m\u001b[38;5;241;43m=\u001b[39;49m\u001b[38;5;28;43mself\u001b[39;49m\u001b[38;5;241;43m.\u001b[39;49m\u001b[43moptions\u001b[49m\u001b[38;5;241;43m.\u001b[39;49m\u001b[43mget\u001b[49m\u001b[43m(\u001b[49m\u001b[38;5;124;43m\"\u001b[39;49m\u001b[38;5;124;43mencoding\u001b[39;49m\u001b[38;5;124;43m\"\u001b[39;49m\u001b[43m,\u001b[49m\u001b[43m \u001b[49m\u001b[38;5;28;43;01mNone\u001b[39;49;00m\u001b[43m)\u001b[49m\u001b[43m,\u001b[49m\n\u001b[0;32m   1884\u001b[0m \u001b[43m    \u001b[49m\u001b[43mcompression\u001b[49m\u001b[38;5;241;43m=\u001b[39;49m\u001b[38;5;28;43mself\u001b[39;49m\u001b[38;5;241;43m.\u001b[39;49m\u001b[43moptions\u001b[49m\u001b[38;5;241;43m.\u001b[39;49m\u001b[43mget\u001b[49m\u001b[43m(\u001b[49m\u001b[38;5;124;43m\"\u001b[39;49m\u001b[38;5;124;43mcompression\u001b[39;49m\u001b[38;5;124;43m\"\u001b[39;49m\u001b[43m,\u001b[49m\u001b[43m \u001b[49m\u001b[38;5;28;43;01mNone\u001b[39;49;00m\u001b[43m)\u001b[49m\u001b[43m,\u001b[49m\n\u001b[0;32m   1885\u001b[0m \u001b[43m    \u001b[49m\u001b[43mmemory_map\u001b[49m\u001b[38;5;241;43m=\u001b[39;49m\u001b[38;5;28;43mself\u001b[39;49m\u001b[38;5;241;43m.\u001b[39;49m\u001b[43moptions\u001b[49m\u001b[38;5;241;43m.\u001b[39;49m\u001b[43mget\u001b[49m\u001b[43m(\u001b[49m\u001b[38;5;124;43m\"\u001b[39;49m\u001b[38;5;124;43mmemory_map\u001b[39;49m\u001b[38;5;124;43m\"\u001b[39;49m\u001b[43m,\u001b[49m\u001b[43m \u001b[49m\u001b[38;5;28;43;01mFalse\u001b[39;49;00m\u001b[43m)\u001b[49m\u001b[43m,\u001b[49m\n\u001b[0;32m   1886\u001b[0m \u001b[43m    \u001b[49m\u001b[43mis_text\u001b[49m\u001b[38;5;241;43m=\u001b[39;49m\u001b[43mis_text\u001b[49m\u001b[43m,\u001b[49m\n\u001b[0;32m   1887\u001b[0m \u001b[43m    \u001b[49m\u001b[43merrors\u001b[49m\u001b[38;5;241;43m=\u001b[39;49m\u001b[38;5;28;43mself\u001b[39;49m\u001b[38;5;241;43m.\u001b[39;49m\u001b[43moptions\u001b[49m\u001b[38;5;241;43m.\u001b[39;49m\u001b[43mget\u001b[49m\u001b[43m(\u001b[49m\u001b[38;5;124;43m\"\u001b[39;49m\u001b[38;5;124;43mencoding_errors\u001b[39;49m\u001b[38;5;124;43m\"\u001b[39;49m\u001b[43m,\u001b[49m\u001b[43m \u001b[49m\u001b[38;5;124;43m\"\u001b[39;49m\u001b[38;5;124;43mstrict\u001b[39;49m\u001b[38;5;124;43m\"\u001b[39;49m\u001b[43m)\u001b[49m\u001b[43m,\u001b[49m\n\u001b[0;32m   1888\u001b[0m \u001b[43m    \u001b[49m\u001b[43mstorage_options\u001b[49m\u001b[38;5;241;43m=\u001b[39;49m\u001b[38;5;28;43mself\u001b[39;49m\u001b[38;5;241;43m.\u001b[39;49m\u001b[43moptions\u001b[49m\u001b[38;5;241;43m.\u001b[39;49m\u001b[43mget\u001b[49m\u001b[43m(\u001b[49m\u001b[38;5;124;43m\"\u001b[39;49m\u001b[38;5;124;43mstorage_options\u001b[39;49m\u001b[38;5;124;43m\"\u001b[39;49m\u001b[43m,\u001b[49m\u001b[43m \u001b[49m\u001b[38;5;28;43;01mNone\u001b[39;49;00m\u001b[43m)\u001b[49m\u001b[43m,\u001b[49m\n\u001b[0;32m   1889\u001b[0m \u001b[43m\u001b[49m\u001b[43m)\u001b[49m\n\u001b[0;32m   1890\u001b[0m \u001b[38;5;28;01massert\u001b[39;00m \u001b[38;5;28mself\u001b[39m\u001b[38;5;241m.\u001b[39mhandles \u001b[38;5;129;01mis\u001b[39;00m \u001b[38;5;129;01mnot\u001b[39;00m \u001b[38;5;28;01mNone\u001b[39;00m\n\u001b[0;32m   1891\u001b[0m f \u001b[38;5;241m=\u001b[39m \u001b[38;5;28mself\u001b[39m\u001b[38;5;241m.\u001b[39mhandles\u001b[38;5;241m.\u001b[39mhandle\n",
      "File \u001b[1;32mc:\\Users\\datai\\anaconda3\\envs\\tcga\\Lib\\site-packages\\pandas\\io\\common.py:873\u001b[0m, in \u001b[0;36mget_handle\u001b[1;34m(path_or_buf, mode, encoding, compression, memory_map, is_text, errors, storage_options)\u001b[0m\n\u001b[0;32m    868\u001b[0m \u001b[38;5;28;01melif\u001b[39;00m \u001b[38;5;28misinstance\u001b[39m(handle, \u001b[38;5;28mstr\u001b[39m):\n\u001b[0;32m    869\u001b[0m     \u001b[38;5;66;03m# Check whether the filename is to be opened in binary mode.\u001b[39;00m\n\u001b[0;32m    870\u001b[0m     \u001b[38;5;66;03m# Binary mode does not support 'encoding' and 'newline'.\u001b[39;00m\n\u001b[0;32m    871\u001b[0m     \u001b[38;5;28;01mif\u001b[39;00m ioargs\u001b[38;5;241m.\u001b[39mencoding \u001b[38;5;129;01mand\u001b[39;00m \u001b[38;5;124m\"\u001b[39m\u001b[38;5;124mb\u001b[39m\u001b[38;5;124m\"\u001b[39m \u001b[38;5;129;01mnot\u001b[39;00m \u001b[38;5;129;01min\u001b[39;00m ioargs\u001b[38;5;241m.\u001b[39mmode:\n\u001b[0;32m    872\u001b[0m         \u001b[38;5;66;03m# Encoding\u001b[39;00m\n\u001b[1;32m--> 873\u001b[0m         handle \u001b[38;5;241m=\u001b[39m \u001b[38;5;28;43mopen\u001b[39;49m\u001b[43m(\u001b[49m\n\u001b[0;32m    874\u001b[0m \u001b[43m            \u001b[49m\u001b[43mhandle\u001b[49m\u001b[43m,\u001b[49m\n\u001b[0;32m    875\u001b[0m \u001b[43m            \u001b[49m\u001b[43mioargs\u001b[49m\u001b[38;5;241;43m.\u001b[39;49m\u001b[43mmode\u001b[49m\u001b[43m,\u001b[49m\n\u001b[0;32m    876\u001b[0m \u001b[43m            \u001b[49m\u001b[43mencoding\u001b[49m\u001b[38;5;241;43m=\u001b[39;49m\u001b[43mioargs\u001b[49m\u001b[38;5;241;43m.\u001b[39;49m\u001b[43mencoding\u001b[49m\u001b[43m,\u001b[49m\n\u001b[0;32m    877\u001b[0m \u001b[43m            \u001b[49m\u001b[43merrors\u001b[49m\u001b[38;5;241;43m=\u001b[39;49m\u001b[43merrors\u001b[49m\u001b[43m,\u001b[49m\n\u001b[0;32m    878\u001b[0m \u001b[43m            \u001b[49m\u001b[43mnewline\u001b[49m\u001b[38;5;241;43m=\u001b[39;49m\u001b[38;5;124;43m\"\u001b[39;49m\u001b[38;5;124;43m\"\u001b[39;49m\u001b[43m,\u001b[49m\n\u001b[0;32m    879\u001b[0m \u001b[43m        \u001b[49m\u001b[43m)\u001b[49m\n\u001b[0;32m    880\u001b[0m     \u001b[38;5;28;01melse\u001b[39;00m:\n\u001b[0;32m    881\u001b[0m         \u001b[38;5;66;03m# Binary mode\u001b[39;00m\n\u001b[0;32m    882\u001b[0m         handle \u001b[38;5;241m=\u001b[39m \u001b[38;5;28mopen\u001b[39m(handle, ioargs\u001b[38;5;241m.\u001b[39mmode)\n",
      "\u001b[1;31mFileNotFoundError\u001b[0m: [Errno 2] No such file or directory: 'E:\\\\Aamir Gulzar\\\\dataset\\\\paip_data\\\\labels\\\\paip_78slides.csv'"
     ]
    }
   ],
   "source": [
    "# Example usage:\n",
    "slides = pd.read_csv(K_FOLDS_PATH)\n",
    "slides = slides['Fold1'].dropna().values.tolist()\n",
    "# Define your folds\n",
    "# Run k-fold cross-validation with different models\n",
    "model_types = ['lin','ann','knn','proto']\n",
    "metric_indices = {\n",
    "    'acc': 0,          # 'lin_acc' corresponds to index 0\n",
    "    'bacc': 1,         # 'lin_bacc' corresponds to index 1\n",
    "    'macro_f1': 2,        # 'lin_kappa' corresponds to index 2\n",
    "    'weighted_f1': 3,  # 'lin_weighted_f1' corresponds to index 3\n",
    "    'auroc': 4         # 'lin_auroc' corresponds to index 4\n",
    "}\n",
    "eval_metrics__for_excel = []\n",
    "probs_all_for_excel = None\n",
    "for model in model_types:\n",
    "    print(f\"\\n\\n ********* Training with model: {model}********* \\n\\n\")\n",
    "    k_folds_results = run_k_folds(DATA_PATH,slides=slides, folds=FOLDS,model=model)\n",
    "    model_df = build_probs_df(k_folds_results,model_name=model)\n",
    "    # === Merge predictions across models ===\n",
    "    if probs_all_for_excel is None:\n",
    "        probs_all_for_excel = model_df\n",
    "    else:\n",
    "        probs_all_for_excel=pd.merge(probs_all_for_excel,model_df,on=[\"Fold\", \"WSI_ID\", \"Target\"],how=\"outer\")\n",
    "\n",
    "    # === Average metrics (only pass metric parts of result dicts)\n",
    "    average_results = calculate_metric_averages(\n",
    "        [{k: v for k, v in result.items() if k in [f\"{model}_{m}\" for m in metric_indices.keys()]}\n",
    "        for result in k_folds_results],\n",
    "        metric_indices,\n",
    "        model_prefix=model\n",
    "    )\n",
    "    # === Confusion matrices\n",
    "    confusion_matrices = [np.array(result[f\"{model}_conf_matrix\"]) for result in k_folds_results if f\"{model}_conf_matrix\" in result]\n",
    "    \n",
    "    avg_conf_matrix = average_confusion_matrices(confusion_matrices)\n",
    "    print(\"\\n\\n Average results for all folds:\")\n",
    "    for metric, value in average_results.items():\n",
    "        print(f\"{metric}: {value:.4f}\")\n",
    "     # Append per metric rows for each fold + average\n",
    "    for metric in metric_indices.keys():\n",
    "        row = [f\"{model}_{metric}\"]\n",
    "        for result in k_folds_results:\n",
    "            row.append(result.get(f\"{model}_{metric}\", 'N/A'))\n",
    "        row.append(average_results.get(f\"{model}_{metric}\", 'N/A'))\n",
    "        eval_metrics__for_excel.append(row)\n",
    "\n",
    "    # Append confusion matrix as string (per fold)\n",
    "    row = [f\"{model}_conf_matrix\"]\n",
    "    for result in k_folds_results:\n",
    "        row.append(str(result.get(f\"{model}_conf_matrix\", \"N/A\")))\n",
    "    row.append(str(avg_conf_matrix))\n",
    "    eval_metrics__for_excel.append(row)\n",
    "    \n",
    "eval_metrics_df = pd.DataFrame(eval_metrics__for_excel, \n",
    "                        columns=[\"Metric\",\"Fold1\",\"Fold2\",\"Fold3\",\"Fold4\",\"AvgFolds\"])\n",
    "write_data_in_excel(EVAL_METRICS_EXCEL, eval_metrics_df, FM_MODEL)\n",
    "write_data_in_excel(PROBS_ALL_EXCEL, probs_all_for_excel, FM_MODEL)\n"
   ]
  }
 ],
 "metadata": {
  "kernelspec": {
   "display_name": "tcga",
   "language": "python",
   "name": "python3"
  },
  "language_info": {
   "codemirror_mode": {
    "name": "ipython",
    "version": 3
   },
   "file_extension": ".py",
   "mimetype": "text/x-python",
   "name": "python",
   "nbconvert_exporter": "python",
   "pygments_lexer": "ipython3",
   "version": "3.12.3"
  }
 },
 "nbformat": 4,
 "nbformat_minor": 2
}
